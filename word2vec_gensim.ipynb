{
  "nbformat": 4,
  "nbformat_minor": 0,
  "metadata": {
    "colab": {
      "name": "word2vec gensim.ipynb",
      "version": "0.3.2",
      "provenance": [],
      "include_colab_link": true
    },
    "kernelspec": {
      "name": "python3",
      "display_name": "Python 3"
    },
    "accelerator": "GPU"
  },
  "cells": [
    {
      "cell_type": "markdown",
      "metadata": {
        "id": "view-in-github",
        "colab_type": "text"
      },
      "source": [
        "[View in Colaboratory](https://colab.research.google.com/github/Mujadded/Bangla-Digit-Recognition-Kaggle-Numta-Competition/blob/master/word2vec_gensim.ipynb)"
      ]
    },
    {
      "metadata": {
        "id": "rSbU2Ygt3Nyi",
        "colab_type": "text"
      },
      "cell_type": "markdown",
      "source": [
        "**Description**\n",
        "\n",
        "This is a sample program, that downloads a TED talk dataset, and trains a Word2Vec model with it.\n",
        "\n",
        "Tags:\n",
        "\n",
        "*   Gensim simple tutorial\n",
        "*   Gensim training with 16MB TED talk dataset\n",
        "*   Basics of Gensim\n",
        "*   FastText\n",
        "\n"
      ]
    },
    {
      "metadata": {
        "id": "jaKl3W5cDiLK",
        "colab_type": "text"
      },
      "cell_type": "markdown",
      "source": [
        "### Install Dependencies"
      ]
    },
    {
      "metadata": {
        "id": "Jxe66wc9sTvY",
        "colab_type": "code",
        "colab": {
          "base_uri": "https://localhost:8080/",
          "height": 131
        },
        "outputId": "c56ed023-91a0-4c94-c0b0-083562a31815"
      },
      "cell_type": "code",
      "source": [
        "!pip install lxml"
      ],
      "execution_count": 1,
      "outputs": [
        {
          "output_type": "stream",
          "text": [
            "Collecting lxml\n",
            "\u001b[?25l  Downloading https://files.pythonhosted.org/packages/eb/59/1db3c9c27049e4f832691c6d642df1f5b64763f73942172c44fee22de397/lxml-4.2.4-cp36-cp36m-manylinux1_x86_64.whl (5.8MB)\n",
            "\u001b[K    100% |████████████████████████████████| 5.8MB 5.1MB/s \n",
            "\u001b[?25hInstalling collected packages: lxml\n",
            "Successfully installed lxml-4.2.4\n"
          ],
          "name": "stdout"
        }
      ]
    },
    {
      "metadata": {
        "id": "kLgvhh9RUo8-",
        "colab_type": "code",
        "colab": {
          "base_uri": "https://localhost:8080/",
          "height": 811
        },
        "outputId": "1809140f-a8de-41d9-c938-f4e4ec0a3dbd"
      },
      "cell_type": "code",
      "source": [
        "!pip install gensim"
      ],
      "execution_count": 2,
      "outputs": [
        {
          "output_type": "stream",
          "text": [
            "Collecting gensim\n",
            "\u001b[?25l  Downloading https://files.pythonhosted.org/packages/86/f3/37504f07651330ddfdefa631ca5246974a60d0908216539efda842fd080f/gensim-3.5.0-cp36-cp36m-manylinux1_x86_64.whl (23.5MB)\n",
            "\u001b[K    100% |████████████████████████████████| 23.5MB 1.6MB/s \n",
            "\u001b[?25hRequirement already satisfied: numpy>=1.11.3 in /usr/local/lib/python3.6/dist-packages (from gensim) (1.14.5)\n",
            "Collecting smart-open>=1.2.1 (from gensim)\n",
            "  Downloading https://files.pythonhosted.org/packages/cf/3d/5f3a9a296d0ba8e00e263a8dee76762076b9eb5ddc254ccaa834651c8d65/smart_open-1.6.0.tar.gz\n",
            "Requirement already satisfied: scipy>=0.18.1 in /usr/local/lib/python3.6/dist-packages (from gensim) (0.19.1)\n",
            "Requirement already satisfied: six>=1.5.0 in /usr/local/lib/python3.6/dist-packages (from gensim) (1.11.0)\n",
            "Collecting boto>=2.32 (from smart-open>=1.2.1->gensim)\n",
            "\u001b[?25l  Downloading https://files.pythonhosted.org/packages/23/10/c0b78c27298029e4454a472a1919bde20cb182dab1662cec7f2ca1dcc523/boto-2.49.0-py2.py3-none-any.whl (1.4MB)\n",
            "\u001b[K    100% |████████████████████████████████| 1.4MB 8.9MB/s \n",
            "\u001b[?25hCollecting bz2file (from smart-open>=1.2.1->gensim)\n",
            "  Downloading https://files.pythonhosted.org/packages/61/39/122222b5e85cd41c391b68a99ee296584b2a2d1d233e7ee32b4532384f2d/bz2file-0.98.tar.gz\n",
            "Requirement already satisfied: requests in /usr/local/lib/python3.6/dist-packages (from smart-open>=1.2.1->gensim) (2.18.4)\n",
            "Collecting boto3 (from smart-open>=1.2.1->gensim)\n",
            "\u001b[?25l  Downloading https://files.pythonhosted.org/packages/c9/cd/d48602dc99ecb52876cf741477f15c874b631e5776723f27092693a5b535/boto3-1.7.80-py2.py3-none-any.whl (128kB)\n",
            "\u001b[K    100% |████████████████████████████████| 133kB 19.5MB/s \n",
            "\u001b[?25hRequirement already satisfied: urllib3<1.23,>=1.21.1 in /usr/local/lib/python3.6/dist-packages (from requests->smart-open>=1.2.1->gensim) (1.22)\n",
            "Requirement already satisfied: chardet<3.1.0,>=3.0.2 in /usr/local/lib/python3.6/dist-packages (from requests->smart-open>=1.2.1->gensim) (3.0.4)\n",
            "Requirement already satisfied: certifi>=2017.4.17 in /usr/local/lib/python3.6/dist-packages (from requests->smart-open>=1.2.1->gensim) (2018.8.13)\n",
            "Requirement already satisfied: idna<2.7,>=2.5 in /usr/local/lib/python3.6/dist-packages (from requests->smart-open>=1.2.1->gensim) (2.6)\n",
            "Collecting s3transfer<0.2.0,>=0.1.10 (from boto3->smart-open>=1.2.1->gensim)\n",
            "\u001b[?25l  Downloading https://files.pythonhosted.org/packages/d7/14/2a0004d487464d120c9fb85313a75cd3d71a7506955be458eebfe19a6b1d/s3transfer-0.1.13-py2.py3-none-any.whl (59kB)\n",
            "\u001b[K    100% |████████████████████████████████| 61kB 10.5MB/s \n",
            "\u001b[?25hCollecting jmespath<1.0.0,>=0.7.1 (from boto3->smart-open>=1.2.1->gensim)\n",
            "  Downloading https://files.pythonhosted.org/packages/b7/31/05c8d001f7f87f0f07289a5fc0fc3832e9a57f2dbd4d3b0fee70e0d51365/jmespath-0.9.3-py2.py3-none-any.whl\n",
            "Collecting botocore<1.11.0,>=1.10.80 (from boto3->smart-open>=1.2.1->gensim)\n",
            "\u001b[?25l  Downloading https://files.pythonhosted.org/packages/5e/cf/b97f44993766af17bf64aeddadf66f63b6ebf3d700565cc7ee7b13cd0067/botocore-1.10.80-py2.py3-none-any.whl (4.5MB)\n",
            "\u001b[K    100% |████████████████████████████████| 4.5MB 4.5MB/s \n",
            "\u001b[?25hRequirement already satisfied: python-dateutil<3.0.0,>=2.1; python_version >= \"2.7\" in /usr/local/lib/python3.6/dist-packages (from botocore<1.11.0,>=1.10.80->boto3->smart-open>=1.2.1->gensim) (2.5.3)\n",
            "Collecting docutils>=0.10 (from botocore<1.11.0,>=1.10.80->boto3->smart-open>=1.2.1->gensim)\n",
            "\u001b[?25l  Downloading https://files.pythonhosted.org/packages/36/fa/08e9e6e0e3cbd1d362c3bbee8d01d0aedb2155c4ac112b19ef3cae8eed8d/docutils-0.14-py3-none-any.whl (543kB)\n",
            "\u001b[K    100% |████████████████████████████████| 552kB 17.3MB/s \n",
            "\u001b[?25hBuilding wheels for collected packages: smart-open, bz2file\n",
            "  Running setup.py bdist_wheel for smart-open ... \u001b[?25l-\b \b\\\b \bdone\n",
            "\u001b[?25h  Stored in directory: /content/.cache/pip/wheels/73/f1/9b/ccf93d4ba073b6f79b1ed9df68ab5ce048d8136d0efcf90b30\n",
            "  Running setup.py bdist_wheel for bz2file ... \u001b[?25l-\b \bdone\n",
            "\u001b[?25h  Stored in directory: /content/.cache/pip/wheels/81/75/d6/e1317bf09bf1af5a30befc2a007869fa6e1f516b8f7c591cb9\n",
            "Successfully built smart-open bz2file\n",
            "Installing collected packages: boto, bz2file, docutils, jmespath, botocore, s3transfer, boto3, smart-open, gensim\n",
            "Successfully installed boto-2.49.0 boto3-1.7.80 botocore-1.10.80 bz2file-0.98 docutils-0.14 gensim-3.5.0 jmespath-0.9.3 s3transfer-0.1.13 smart-open-1.6.0\n"
          ],
          "name": "stdout"
        }
      ]
    },
    {
      "metadata": {
        "id": "faRS415PEIVS",
        "colab_type": "text"
      },
      "cell_type": "markdown",
      "source": [
        "### Import dependencies"
      ]
    },
    {
      "metadata": {
        "id": "2KGlY-99EHXT",
        "colab_type": "code",
        "colab": {}
      },
      "cell_type": "code",
      "source": [
        "import numpy as np\n",
        "import os\n",
        "from random import shuffle\n",
        "import re\n",
        "import urllib.request\n",
        "import zipfile\n",
        "import lxml.etree"
      ],
      "execution_count": 0,
      "outputs": []
    },
    {
      "metadata": {
        "id": "Fw3HchvdDmmk",
        "colab_type": "text"
      },
      "cell_type": "markdown",
      "source": [
        "### Data Download"
      ]
    },
    {
      "metadata": {
        "id": "_3y4rnynDvjC",
        "colab_type": "text"
      },
      "cell_type": "markdown",
      "source": [
        "This code is simply downloading the data from a given url. You can put your data in a text file, and read it to a string \"input_text\", and it will work just fine."
      ]
    },
    {
      "metadata": {
        "id": "sy6P13Y1UZZC",
        "colab_type": "code",
        "colab": {}
      },
      "cell_type": "code",
      "source": [
        "#download the data\n",
        "urllib.request.urlretrieve(\"https://wit3.fbk.eu/get.php?path=XML_releases/xml/ted_en-20160408.zip&filename=ted_en-20160408.zip\", filename=\"ted_en-20160408.zip\")\n",
        "# extract subtitle\n",
        "with zipfile.ZipFile('ted_en-20160408.zip', 'r') as z:\n",
        "    doc = lxml.etree.parse(z.open('ted_en-20160408.xml', 'r'))\n",
        "input_text = '\\n'.join(doc.xpath('//content/text()'))"
      ],
      "execution_count": 0,
      "outputs": []
    },
    {
      "metadata": {
        "id": "q3V0zAIvD8_h",
        "colab_type": "text"
      },
      "cell_type": "markdown",
      "source": [
        "Printing out the text file to see the text we are going to build our word2vec model on."
      ]
    },
    {
      "metadata": {
        "id": "kr7NFcJqUgaU",
        "colab_type": "code",
        "colab": {
          "base_uri": "https://localhost:8080/",
          "height": 56
        },
        "outputId": "b2d1ae03-35fa-424c-8864-1c93fc8718f0"
      },
      "cell_type": "code",
      "source": [
        "input_text[0:200]"
      ],
      "execution_count": 5,
      "outputs": [
        {
          "output_type": "execute_result",
          "data": {
            "text/plain": [
              "\"Here are two reasons companies fail: they only do more of the same, or they only do what's new.\\nTo me the real, real solution to quality growth is figuring out the balance between two activities: expl\""
            ]
          },
          "metadata": {
            "tags": []
          },
          "execution_count": 5
        }
      ]
    },
    {
      "metadata": {
        "id": "cDWnSrANEwy0",
        "colab_type": "text"
      },
      "cell_type": "markdown",
      "source": [
        "### Data Preprocessing"
      ]
    },
    {
      "metadata": {
        "id": "Y-n5WcFZU9d8",
        "colab_type": "code",
        "colab": {}
      },
      "cell_type": "code",
      "source": [
        "# remove parenthesis \n",
        "input_text_noparens = re.sub(r'\\([^)]*\\)', '', input_text)\n",
        "# store as list of sentences\n",
        "sentences_strings_ted = []\n",
        "for line in input_text_noparens.split('\\n'):\n",
        "    m = re.match(r'^(?:(?P<precolon>[^:]{,20}):)?(?P<postcolon>.*)$', line)\n",
        "    sentences_strings_ted.extend(sent for sent in m.groupdict()['postcolon'].split('.') if sent)\n",
        "# store as list of lists of words\n",
        "sentences_ted = []\n",
        "for sent_str in sentences_strings_ted:\n",
        "    tokens = re.sub(r\"[^a-z0-9]+\", \" \", sent_str.lower()).split()\n",
        "    sentences_ted.append(tokens)"
      ],
      "execution_count": 0,
      "outputs": []
    },
    {
      "metadata": {
        "id": "ExDcQoAJFgiV",
        "colab_type": "text"
      },
      "cell_type": "markdown",
      "source": [
        "Inspecting the data"
      ]
    },
    {
      "metadata": {
        "id": "6xYkUsrfWjyh",
        "colab_type": "code",
        "colab": {
          "base_uri": "https://localhost:8080/",
          "height": 394
        },
        "outputId": "ea9234ac-ec51-4e52-c819-4fd29eb63255"
      },
      "cell_type": "code",
      "source": [
        "sentences_ted[0]"
      ],
      "execution_count": 7,
      "outputs": [
        {
          "output_type": "execute_result",
          "data": {
            "text/plain": [
              "['here',\n",
              " 'are',\n",
              " 'two',\n",
              " 'reasons',\n",
              " 'companies',\n",
              " 'fail',\n",
              " 'they',\n",
              " 'only',\n",
              " 'do',\n",
              " 'more',\n",
              " 'of',\n",
              " 'the',\n",
              " 'same',\n",
              " 'or',\n",
              " 'they',\n",
              " 'only',\n",
              " 'do',\n",
              " 'what',\n",
              " 's',\n",
              " 'new']"
            ]
          },
          "metadata": {
            "tags": []
          },
          "execution_count": 7
        }
      ]
    },
    {
      "metadata": {
        "id": "ee5xzCpuW28s",
        "colab_type": "code",
        "colab": {
          "base_uri": "https://localhost:8080/",
          "height": 35
        },
        "outputId": "df19fcda-69ea-42a3-c292-c10c5a144e2c"
      },
      "cell_type": "code",
      "source": [
        "sentences_strings_ted[0]"
      ],
      "execution_count": 11,
      "outputs": [
        {
          "output_type": "execute_result",
          "data": {
            "text/plain": [
              "\"Here are two reasons companies fail: they only do more of the same, or they only do what's new\""
            ]
          },
          "metadata": {
            "tags": []
          },
          "execution_count": 11
        }
      ]
    },
    {
      "metadata": {
        "id": "INLUSSO7E-nI",
        "colab_type": "text"
      },
      "cell_type": "markdown",
      "source": [
        "### Train the model and create Word2Vec"
      ]
    },
    {
      "metadata": {
        "id": "eRjnjwGyG4Sz",
        "colab_type": "text"
      },
      "cell_type": "markdown",
      "source": [
        "**window = 5** : the window we have talked about\n",
        "\n",
        "**min_count = 5** : throw away any word less frequent than 5 times\n",
        "\n",
        "**worker** : number of CPU\n",
        "\n",
        "**sg** : 1 = skip gram model,  0 = Continuous Bag Of Words model\n",
        "\n",
        "**size=100** : dimension of our word vectors"
      ]
    },
    {
      "metadata": {
        "id": "TrM0EzSLW_Sg",
        "colab_type": "code",
        "colab": {}
      },
      "cell_type": "code",
      "source": [
        "from gensim.models import Word2Vec\n",
        "model_ted = Word2Vec(sentences=sentences_ted, size=100, window=5, min_count=5, workers=4, sg=0)"
      ],
      "execution_count": 0,
      "outputs": []
    },
    {
      "metadata": {
        "id": "DFCpnefMFEcn",
        "colab_type": "text"
      },
      "cell_type": "markdown",
      "source": [
        "### Playing with our trained model"
      ]
    },
    {
      "metadata": {
        "id": "aV_Pn7_mHiZz",
        "colab_type": "text"
      },
      "cell_type": "markdown",
      "source": [
        "Finding similar words"
      ]
    },
    {
      "metadata": {
        "id": "k6vgBxQ1XPos",
        "colab_type": "code",
        "colab": {
          "base_uri": "https://localhost:8080/",
          "height": 263
        },
        "outputId": "f530db4b-0689-4bbe-f43e-eaa9886b7729"
      },
      "cell_type": "code",
      "source": [
        "model_ted.wv.most_similar(\"learning\")"
      ],
      "execution_count": 12,
      "outputs": [
        {
          "output_type": "stream",
          "text": [
            "/usr/local/lib/python3.6/dist-packages/gensim/matutils.py:737: FutureWarning: Conversion of the second argument of issubdtype from `int` to `np.signedinteger` is deprecated. In future, it will be treated as `np.int64 == np.dtype(int).type`.\n",
            "  if np.issubdtype(vec.dtype, np.int):\n"
          ],
          "name": "stderr"
        },
        {
          "output_type": "execute_result",
          "data": {
            "text/plain": [
              "[('thinking', 0.624519944190979),\n",
              " ('designing', 0.6135532855987549),\n",
              " ('understanding', 0.5971096754074097),\n",
              " ('creativity', 0.5890544652938843),\n",
              " ('interaction', 0.5722825527191162),\n",
              " ('sharing', 0.5671535134315491),\n",
              " ('knowledge', 0.5633713006973267),\n",
              " ('programming', 0.5599903464317322),\n",
              " ('behavior', 0.5588247776031494),\n",
              " ('concerned', 0.5585861206054688)]"
            ]
          },
          "metadata": {
            "tags": []
          },
          "execution_count": 12
        }
      ]
    },
    {
      "metadata": {
        "id": "XVfXVUMQHmAD",
        "colab_type": "text"
      },
      "cell_type": "markdown",
      "source": [
        "**Actual vector representation of the given word**"
      ]
    },
    {
      "metadata": {
        "id": "tcD-W3GrYSmn",
        "colab_type": "code",
        "colab": {
          "base_uri": "https://localhost:8080/",
          "height": 471
        },
        "outputId": "2f20317d-9070-4caa-8fb4-16997f16c74d"
      },
      "cell_type": "code",
      "source": [
        "model_ted[\"superman\"]"
      ],
      "execution_count": 13,
      "outputs": [
        {
          "output_type": "stream",
          "text": [
            "/usr/local/lib/python3.6/dist-packages/ipykernel_launcher.py:1: DeprecationWarning: Call to deprecated `__getitem__` (Method will be removed in 4.0.0, use self.wv.__getitem__() instead).\n",
            "  \"\"\"Entry point for launching an IPython kernel.\n"
          ],
          "name": "stderr"
        },
        {
          "output_type": "execute_result",
          "data": {
            "text/plain": [
              "array([ 0.02932545, -0.03813079, -0.03908348, -0.04440913, -0.00780136,\n",
              "        0.17753965,  0.12432306, -0.01260174, -0.02116437,  0.01338702,\n",
              "        0.04903176,  0.0128541 ,  0.10578487, -0.03713503,  0.07001546,\n",
              "       -0.14151737, -0.09285926,  0.08726685,  0.08953398, -0.09632254,\n",
              "       -0.22157773,  0.075741  ,  0.16108155, -0.09259493, -0.1076882 ,\n",
              "       -0.02815372,  0.12990771, -0.03335473,  0.00819364,  0.08313783,\n",
              "        0.04859168, -0.01032159,  0.05126826,  0.02886479,  0.01692663,\n",
              "       -0.13471396, -0.08546012,  0.11300616, -0.08114375,  0.18780759,\n",
              "       -0.14915358, -0.16964687,  0.0853797 ,  0.22036536, -0.0376901 ,\n",
              "        0.06474366,  0.16765636,  0.10471794, -0.0601727 , -0.09241454,\n",
              "       -0.26310453, -0.12781328, -0.02925716,  0.04133437,  0.04953956,\n",
              "       -0.05544368, -0.11810335,  0.04695258,  0.17772011,  0.12116767,\n",
              "        0.26723117, -0.08432853, -0.14733846, -0.00198483, -0.12609589,\n",
              "        0.05029595, -0.2562903 ,  0.14254208, -0.13047476,  0.11907224,\n",
              "        0.05207637,  0.03976939, -0.05406794,  0.07498628, -0.21290435,\n",
              "       -0.15112567, -0.16187863, -0.0633049 ,  0.08699435, -0.0530567 ,\n",
              "       -0.04236529,  0.02896738, -0.16914965,  0.07322542,  0.02326903,\n",
              "       -0.1968606 , -0.03929222, -0.10742137, -0.1109063 , -0.13688093,\n",
              "        0.10947888,  0.08955691, -0.02232324, -0.09787128,  0.15388958,\n",
              "        0.03694876, -0.0237257 , -0.11831073, -0.00662134,  0.18375672],\n",
              "      dtype=float32)"
            ]
          },
          "metadata": {
            "tags": []
          },
          "execution_count": 13
        }
      ]
    },
    {
      "metadata": {
        "id": "DGETHhJ5F3k7",
        "colab_type": "text"
      },
      "cell_type": "markdown",
      "source": [
        "**\"King\" - \"Man\" + \"Woman\" = \"Queen\"**"
      ]
    },
    {
      "metadata": {
        "id": "ymNvuNzGqvVk",
        "colab_type": "code",
        "colab": {
          "base_uri": "https://localhost:8080/",
          "height": 131
        },
        "outputId": "ecf35609-bec0-437a-de92-4a0785629c7a"
      },
      "cell_type": "code",
      "source": [
        "model_ted.most_similar(positive=['paris', 'italy'], negative=['france'], topn=1)"
      ],
      "execution_count": 16,
      "outputs": [
        {
          "output_type": "stream",
          "text": [
            "/usr/local/lib/python3.6/dist-packages/ipykernel_launcher.py:1: DeprecationWarning: Call to deprecated `most_similar` (Method will be removed in 4.0.0, use self.wv.most_similar() instead).\n",
            "  \"\"\"Entry point for launching an IPython kernel.\n",
            "/usr/local/lib/python3.6/dist-packages/gensim/matutils.py:737: FutureWarning: Conversion of the second argument of issubdtype from `int` to `np.signedinteger` is deprecated. In future, it will be treated as `np.int64 == np.dtype(int).type`.\n",
            "  if np.issubdtype(vec.dtype, np.int):\n"
          ],
          "name": "stderr"
        },
        {
          "output_type": "execute_result",
          "data": {
            "text/plain": [
              "[('tokyo', 0.7420258522033691)]"
            ]
          },
          "metadata": {
            "tags": []
          },
          "execution_count": 16
        }
      ]
    },
    {
      "metadata": {
        "id": "VrAOtrnfGBHV",
        "colab_type": "text"
      },
      "cell_type": "markdown",
      "source": [
        "**Exercise**: \n",
        "\n",
        "\"Paris\" - \"France\" + \"Italy\" = ?"
      ]
    },
    {
      "metadata": {
        "id": "2RvH3eq5Gaun",
        "colab_type": "code",
        "colab": {}
      },
      "cell_type": "code",
      "source": [
        ""
      ],
      "execution_count": 0,
      "outputs": []
    },
    {
      "metadata": {
        "id": "djdrVIPiFpg_",
        "colab_type": "text"
      },
      "cell_type": "markdown",
      "source": [
        "### Saving the trained model"
      ]
    },
    {
      "metadata": {
        "id": "V6BuWSw_clST",
        "colab_type": "code",
        "colab": {}
      },
      "cell_type": "code",
      "source": [
        "model_ted.save('model_ted')"
      ],
      "execution_count": 0,
      "outputs": []
    },
    {
      "metadata": {
        "id": "OkhkTAF_ourM",
        "colab_type": "code",
        "colab": {
          "base_uri": "https://localhost:8080/",
          "height": 52
        },
        "outputId": "dee93b26-0a78-4e30-fc83-f59f593bc8a6"
      },
      "cell_type": "code",
      "source": [
        "ls"
      ],
      "execution_count": 19,
      "outputs": [
        {
          "output_type": "stream",
          "text": [
            "\u001b[0m\u001b[01;34mdatalab\u001b[0m/   model_ted.trainables.vectors_ngrams_lockf.npy  ted_en-20160408.zip\r\n",
            "model_ted  model_ted.wv.vectors_ngrams.npy\r\n"
          ],
          "name": "stdout"
        }
      ]
    },
    {
      "metadata": {
        "id": "36DCbFcVFtEE",
        "colab_type": "text"
      },
      "cell_type": "markdown",
      "source": [
        "### Loading the saved model for later use"
      ]
    },
    {
      "metadata": {
        "id": "TMHBFO78oqhC",
        "colab_type": "code",
        "colab": {}
      },
      "cell_type": "code",
      "source": [
        "import gensim\n",
        "new_model = gensim.models.Word2Vec.load('model_ted')"
      ],
      "execution_count": 0,
      "outputs": []
    },
    {
      "metadata": {
        "id": "Hsh_DLatoz7W",
        "colab_type": "code",
        "colab": {
          "base_uri": "https://localhost:8080/",
          "height": 194
        },
        "outputId": "ea3cdb99-7e36-4f8e-805b-13e02645e0e1"
      },
      "cell_type": "code",
      "source": [
        "model_ted.wv.most_similar(\"musk\")"
      ],
      "execution_count": 22,
      "outputs": [
        {
          "output_type": "execute_result",
          "data": {
            "text/plain": [
              "[('sum', 0.8453272581100464),\n",
              " ('gypsum', 0.7025263905525208),\n",
              " ('spends', 0.6015372276306152),\n",
              " ('sumness', 0.5867369771003723),\n",
              " ('spend', 0.5801560878753662),\n",
              " ('consume', 0.5798588395118713),\n",
              " ('consumption', 0.5754652619361877),\n",
              " ('enjoyment', 0.5706859230995178),\n",
              " ('caloric', 0.569891095161438),\n",
              " ('gdp', 0.5693891644477844)]"
            ]
          },
          "metadata": {
            "tags": []
          },
          "execution_count": 22
        }
      ]
    },
    {
      "metadata": {
        "id": "DRJhHjMvtHE8",
        "colab_type": "text"
      },
      "cell_type": "markdown",
      "source": [
        "[Tutorial](https://rare-technologies.com/word2vec-tutorial/)"
      ]
    },
    {
      "metadata": {
        "id": "ghdSEFDYID4O",
        "colab_type": "text"
      },
      "cell_type": "markdown",
      "source": [
        "### Pretrained Models"
      ]
    },
    {
      "metadata": {
        "id": "RZrtSha3I0-J",
        "colab_type": "text"
      },
      "cell_type": "markdown",
      "source": [
        "Download Google's pretrained model (1.5GB). This model has 300 dimensions."
      ]
    },
    {
      "metadata": {
        "id": "zJ_MNdfXIxDU",
        "colab_type": "code",
        "colab": {
          "base_uri": "https://localhost:8080/",
          "height": 245
        },
        "outputId": "5f8ba5a1-2e40-4cc7-edf8-4d1bb13059b0"
      },
      "cell_type": "code",
      "source": [
        "!wget --header=\"Host: doc-0k-60-docs.googleusercontent.com\" --header=\"User-Agent: Mozilla/5.0 (Windows NT 10.0; Win64; x64) AppleWebKit/537.36 (KHTML, like Gecko) Chrome/68.0.3440.106 Safari/537.36\" --header=\"Accept: text/html,application/xhtml+xml,application/xml;q=0.9,image/webp,image/apng,*/*;q=0.8\" --header=\"Accept-Language: en-US,en;q=0.9,bn;q=0.8\" --header=\"Cookie: AUTH_hsj6bsv3gmr4jud640d5antqf80l6l0u_nonce=4e0ai06tkdrcq\" --header=\"Connection: keep-alive\" \"https://doc-0k-60-docs.googleusercontent.com/docs/securesc/3ibvjp4ek73d72m48ftm6aqlh1cm5gq2/9pj70o100kqsh714bprtp2s146a5ntff/1534593600000/06848720943842814915/11497237792643639470/0B7XkCwpI5KDYNlNUTTlSS21pQmM?e=download&nonce=4e0ai06tkdrcq&user=11497237792643639470&hash=hc7ja67baf5hea9lr11tvd4ippf9g9vg\" -O \"GoogleNews-vectors-negative300.bin.gz\" -c"
      ],
      "execution_count": 17,
      "outputs": [
        {
          "output_type": "stream",
          "text": [
            "--2018-08-18 16:09:18--  https://doc-0k-60-docs.googleusercontent.com/docs/securesc/3ibvjp4ek73d72m48ftm6aqlh1cm5gq2/9pj70o100kqsh714bprtp2s146a5ntff/1534593600000/06848720943842814915/11497237792643639470/0B7XkCwpI5KDYNlNUTTlSS21pQmM?e=download&nonce=4e0ai06tkdrcq&user=11497237792643639470&hash=hc7ja67baf5hea9lr11tvd4ippf9g9vg\r\n",
            "Resolving doc-0k-60-docs.googleusercontent.com (doc-0k-60-docs.googleusercontent.com)... 209.85.200.132, 2607:f8b0:4001:c16::84\r\n",
            "Connecting to doc-0k-60-docs.googleusercontent.com (doc-0k-60-docs.googleusercontent.com)|209.85.200.132|:443... connected.\n",
            "HTTP request sent, awaiting response... 200 OK\n",
            "Length: unspecified [application/x-gzip]\n",
            "Saving to: ‘GoogleNews-vectors-negative300.bin.gz’\n",
            "\n",
            "GoogleNews-vectors-     [          <=>       ]   1.53G   129MB/s    in 11s     \n",
            "\n",
            "2018-08-18 16:09:30 (137 MB/s) - ‘GoogleNews-vectors-negative300.bin.gz’ saved [1647046227]\n",
            "\n"
          ],
          "name": "stdout"
        }
      ]
    },
    {
      "metadata": {
        "id": "95vISq0eI5dw",
        "colab_type": "code",
        "colab": {
          "base_uri": "https://localhost:8080/",
          "height": 54
        },
        "outputId": "39a9814a-9e64-4cdf-ac0d-f48b6a4bf9cb"
      },
      "cell_type": "code",
      "source": [
        "ls"
      ],
      "execution_count": 21,
      "outputs": [
        {
          "output_type": "stream",
          "text": [
            "\u001b[0m\u001b[01;36mdatalab\u001b[0m@                               \u001b[01;34msample_data\u001b[0m/\r\n",
            "GoogleNews-vectors-negative300.bin.gz  ted_en-20160408.zip\r\n"
          ],
          "name": "stdout"
        }
      ]
    },
    {
      "metadata": {
        "id": "Ces6TwnXJrau",
        "colab_type": "text"
      },
      "cell_type": "markdown",
      "source": [
        "Don't worry, it'll take a while."
      ]
    },
    {
      "metadata": {
        "id": "RYBtL-c_I8eO",
        "colab_type": "code",
        "colab": {}
      },
      "cell_type": "code",
      "source": [
        "import gensim\n",
        "\n",
        "# Load Google's pre-trained Word2Vec model.\n",
        "model = gensim.models.KeyedVectors.load_word2vec_format('./GoogleNews-vectors-negative300.bin.gz', binary=True)"
      ],
      "execution_count": 0,
      "outputs": []
    },
    {
      "metadata": {
        "id": "ZcCtQ0UAIIvt",
        "colab_type": "code",
        "colab": {
          "base_uri": "https://localhost:8080/",
          "height": 1168
        },
        "outputId": "63377d5d-2ce3-41af-c3bb-5d0bd1650257"
      },
      "cell_type": "code",
      "source": [
        "model[\"food\"]"
      ],
      "execution_count": 20,
      "outputs": [
        {
          "output_type": "execute_result",
          "data": {
            "text/plain": [
              "array([-0.18164062,  0.16503906, -0.16601562,  0.35742188, -0.09228516,\n",
              "        0.20117188, -0.0546875 , -0.26171875, -0.17285156, -0.08056641,\n",
              "        0.14648438, -0.24609375,  0.18652344,  0.10253906, -0.3203125 ,\n",
              "        0.16699219, -0.0032196 , -0.06640625,  0.06591797, -0.109375  ,\n",
              "        0.13964844, -0.05029297,  0.25390625,  0.0859375 ,  0.02026367,\n",
              "        0.05517578, -0.08447266,  0.07324219,  0.15429688, -0.13867188,\n",
              "       -0.25195312, -0.15136719,  0.07958984,  0.00848389, -0.24902344,\n",
              "        0.05224609,  0.04394531, -0.19726562, -0.2109375 ,  0.01477051,\n",
              "       -0.23632812, -0.14355469,  0.17773438,  0.26757812, -0.08789062,\n",
              "       -0.07910156, -0.16113281,  0.23632812, -0.07177734,  0.08837891,\n",
              "        0.07177734, -0.11962891, -0.09228516, -0.12060547, -0.00448608,\n",
              "       -0.21875   , -0.05712891, -0.04418945,  0.07226562, -0.05883789,\n",
              "       -0.12597656,  0.03125   , -0.24609375,  0.19140625,  0.14941406,\n",
              "       -0.19335938, -0.1875    , -0.05126953,  0.03369141, -0.21679688,\n",
              "        0.05273438, -0.13183594,  0.04101562, -0.00500488, -0.21484375,\n",
              "       -0.18066406, -0.36914062,  0.05957031,  0.02075195, -0.18457031,\n",
              "        0.12011719, -0.18359375,  0.23144531,  0.05810547, -0.23730469,\n",
              "       -0.15039062, -0.20410156,  0.07617188, -0.0234375 , -0.09521484,\n",
              "        0.06787109, -0.05566406, -0.07324219, -0.36328125, -0.00579834,\n",
              "       -0.10742188,  0.00964355, -0.00224304,  0.00427246, -0.00512695,\n",
              "       -0.06640625,  0.17285156,  0.23730469,  0.19433594, -0.00976562,\n",
              "       -0.06542969, -0.02868652, -0.23242188, -0.18554688, -0.03662109,\n",
              "       -0.20898438, -0.30078125, -0.10839844, -0.03540039, -0.18066406,\n",
              "        0.10693359,  0.13671875, -0.01599121, -0.09814453,  0.0055542 ,\n",
              "       -0.3203125 ,  0.09033203, -0.25976562, -0.15039062, -0.11230469,\n",
              "        0.08886719,  0.01080322, -0.04418945, -0.04418945, -0.10253906,\n",
              "       -0.17382812,  0.04541016, -0.20507812,  0.05932617, -0.22753906,\n",
              "        0.34179688,  0.28515625, -0.12255859,  0.14453125, -0.01843262,\n",
              "        0.140625  , -0.10986328, -0.18457031, -0.1171875 , -0.08251953,\n",
              "       -0.07080078,  0.14941406,  0.19628906, -0.36328125, -0.02526855,\n",
              "        0.05102539,  0.25976562, -0.203125  , -0.04394531,  0.04125977,\n",
              "       -0.10009766, -0.06835938,  0.05322266, -0.375     , -0.25195312,\n",
              "       -0.16796875, -0.04931641, -0.05761719,  0.23535156, -0.06591797,\n",
              "        0.05297852, -0.14550781, -0.00145721,  0.12109375, -0.21582031,\n",
              "       -0.41210938,  0.03088379,  0.14257812, -0.09130859, -0.12109375,\n",
              "       -0.07080078,  0.07763672,  0.0291748 , -0.04589844, -0.02355957,\n",
              "       -0.29296875, -0.19238281,  0.10302734, -0.1171875 ,  0.08935547,\n",
              "       -0.07373047, -0.11914062,  0.04272461, -0.05712891,  0.11328125,\n",
              "        0.04150391,  0.11621094,  0.125     , -0.0390625 , -0.08496094,\n",
              "        0.24121094,  0.17675781, -0.25585938, -0.19433594, -0.12011719,\n",
              "       -0.0559082 , -0.03417969, -0.0255127 , -0.22949219, -0.24609375,\n",
              "        0.00946045,  0.18066406, -0.05493164,  0.06176758,  0.03027344,\n",
              "       -0.28125   , -0.05004883,  0.15527344,  0.10888672,  0.19140625,\n",
              "        0.0088501 ,  0.11865234,  0.09228516, -0.05175781,  0.05200195,\n",
              "        0.20019531, -0.08691406,  0.16210938,  0.03125   ,  0.20800781,\n",
              "        0.16894531, -0.03198242,  0.01177979,  0.09033203,  0.07617188,\n",
              "       -0.05810547,  0.19726562, -0.10986328,  0.11425781, -0.00257874,\n",
              "       -0.18066406,  0.3046875 ,  0.02893066, -0.01525879, -0.06542969,\n",
              "        0.18847656,  0.17285156,  0.13867188,  0.00222778,  0.06054688,\n",
              "       -0.04199219,  0.20800781, -0.20214844,  0.01300049,  0.03417969,\n",
              "        0.03027344, -0.09228516, -0.14648438, -0.09619141, -0.02416992,\n",
              "       -0.27929688,  0.17285156, -0.07763672, -0.05102539,  0.15429688,\n",
              "       -0.01733398, -0.01177979, -0.01940918, -0.07128906,  0.02331543,\n",
              "       -0.07177734, -0.1875    ,  0.04638672, -0.05249023, -0.05566406,\n",
              "       -0.2734375 ,  0.11279297,  0.17089844,  0.01782227,  0.00387573,\n",
              "        0.00753784, -0.20996094, -0.25390625,  0.2265625 , -0.04614258,\n",
              "       -0.06738281, -0.02160645,  0.10791016,  0.26757812, -0.18554688,\n",
              "        0.09326172, -0.09521484,  0.35546875,  0.05737305,  0.45898438,\n",
              "       -0.36914062, -0.05517578, -0.14941406,  0.3984375 ,  0.09277344,\n",
              "        0.03393555, -0.06152344,  0.15917969,  0.12792969,  0.00222778],\n",
              "      dtype=float32)"
            ]
          },
          "metadata": {
            "tags": []
          },
          "execution_count": 20
        }
      ]
    },
    {
      "metadata": {
        "id": "4Zs1elRkKPKh",
        "colab_type": "text"
      },
      "cell_type": "markdown",
      "source": [
        "**How to represent your sentence into a vector array:**"
      ]
    },
    {
      "metadata": {
        "id": "xhpTIOy7LG5T",
        "colab_type": "text"
      },
      "cell_type": "markdown",
      "source": [
        "For deminstration, we take this sentence"
      ]
    },
    {
      "metadata": {
        "id": "GNP0EzhUKElW",
        "colab_type": "code",
        "colab": {
          "base_uri": "https://localhost:8080/",
          "height": 394
        },
        "outputId": "242d746c-9972-45e5-d93b-a3ef2ec9ee1c"
      },
      "cell_type": "code",
      "source": [
        "sentences_ted[0]"
      ],
      "execution_count": 21,
      "outputs": [
        {
          "output_type": "execute_result",
          "data": {
            "text/plain": [
              "['here',\n",
              " 'are',\n",
              " 'two',\n",
              " 'reasons',\n",
              " 'companies',\n",
              " 'fail',\n",
              " 'they',\n",
              " 'only',\n",
              " 'do',\n",
              " 'more',\n",
              " 'of',\n",
              " 'the',\n",
              " 'same',\n",
              " 'or',\n",
              " 'they',\n",
              " 'only',\n",
              " 'do',\n",
              " 'what',\n",
              " 's',\n",
              " 'new']"
            ]
          },
          "metadata": {
            "tags": []
          },
          "execution_count": 21
        }
      ]
    },
    {
      "metadata": {
        "id": "nunTF8keMCde",
        "colab_type": "code",
        "colab": {
          "base_uri": "https://localhost:8080/",
          "height": 75
        },
        "outputId": "4f42dc0f-8dfa-4635-bdaa-cd23c49bf0d3"
      },
      "cell_type": "code",
      "source": [
        "allowed_words = set(model.wv.vocab)"
      ],
      "execution_count": 22,
      "outputs": [
        {
          "output_type": "stream",
          "text": [
            "/usr/local/lib/python3.6/dist-packages/ipykernel_launcher.py:1: DeprecationWarning: Call to deprecated `wv` (Attribute will be removed in 4.0.0, use self instead).\n",
            "  \"\"\"Entry point for launching an IPython kernel.\n"
          ],
          "name": "stderr"
        }
      ]
    },
    {
      "metadata": {
        "id": "jX521g_TMTg4",
        "colab_type": "text"
      },
      "cell_type": "markdown",
      "source": [
        "Adding all the vectors of the allowed words to a list. To remember, Google pretrained models has prepositions removed."
      ]
    },
    {
      "metadata": {
        "id": "l9jQ5dfaLJQs",
        "colab_type": "code",
        "colab": {}
      },
      "cell_type": "code",
      "source": [
        "vectors = []\n",
        "\n",
        "for word in sentences_ted[0]:\n",
        "  if word in allowed_words:\n",
        "    vectors.append(model[word])"
      ],
      "execution_count": 0,
      "outputs": []
    },
    {
      "metadata": {
        "id": "WLLR_OlaMstN",
        "colab_type": "code",
        "colab": {
          "base_uri": "https://localhost:8080/",
          "height": 24091
        },
        "outputId": "6eb9f9e9-2caf-4d9c-d6cf-b73dc34f750d"
      },
      "cell_type": "code",
      "source": [
        "print(vectors)"
      ],
      "execution_count": 24,
      "outputs": [
        {
          "output_type": "stream",
          "text": [
            "[array([-2.73437500e-02,  4.49218750e-02,  7.66601562e-02,  1.33789062e-01,\n",
            "       -8.30078125e-02, -5.63964844e-02,  8.05664062e-02, -1.22070312e-01,\n",
            "       -1.01074219e-01,  1.04003906e-01,  5.12695312e-02, -8.59375000e-02,\n",
            "        1.61132812e-02, -7.32421875e-02, -2.03125000e-01,  3.06396484e-02,\n",
            "        2.73437500e-01,  2.08984375e-01,  5.73730469e-03, -8.10546875e-02,\n",
            "       -1.45507812e-01,  8.39843750e-02,  1.50390625e-01, -2.10937500e-01,\n",
            "        2.77099609e-02,  4.34570312e-02, -1.30004883e-02,  1.73950195e-03,\n",
            "       -2.28271484e-02, -6.00585938e-02, -2.69775391e-02,  2.42919922e-02,\n",
            "        1.01928711e-02,  2.11181641e-02,  5.37109375e-02, -3.61328125e-02,\n",
            "        2.63977051e-03, -5.51757812e-02,  3.93066406e-02,  2.02148438e-01,\n",
            "        5.61523438e-02, -5.66406250e-02,  9.08203125e-02,  5.90820312e-02,\n",
            "        1.78222656e-02,  1.33056641e-02, -7.66601562e-02,  4.46777344e-02,\n",
            "        4.34570312e-02,  5.78613281e-02,  8.34960938e-02,  1.22558594e-01,\n",
            "        8.64257812e-02,  6.29882812e-02,  2.45361328e-02, -1.58203125e-01,\n",
            "       -1.02539062e-02,  5.78613281e-02,  2.19726562e-01, -2.57812500e-01,\n",
            "       -5.20019531e-02,  9.76562500e-03,  1.95312500e-02, -1.66015625e-01,\n",
            "       -2.57568359e-02, -4.76074219e-02, -5.73730469e-03,  1.14746094e-01,\n",
            "        5.12695312e-02,  5.59082031e-02,  2.07519531e-02,  2.73437500e-02,\n",
            "       -5.63964844e-02, -7.86132812e-02, -9.47265625e-02, -3.19824219e-02,\n",
            "       -2.23388672e-02,  4.07714844e-02, -9.13085938e-02,  1.25976562e-01,\n",
            "        1.79443359e-02,  3.28063965e-03,  1.28906250e-01, -2.02636719e-02,\n",
            "       -1.08886719e-01, -1.49414062e-01, -3.05175781e-02,  1.32812500e-01,\n",
            "        4.90722656e-02, -3.93066406e-02,  5.98144531e-02,  1.43554688e-01,\n",
            "       -1.30859375e-01, -8.54492188e-02, -3.16406250e-01, -1.03759766e-02,\n",
            "        2.25585938e-01,  9.08203125e-02,  1.94091797e-02, -1.04980469e-01,\n",
            "       -1.73828125e-01,  1.39160156e-02,  1.72851562e-01,  1.16210938e-01,\n",
            "       -8.49609375e-02,  2.72216797e-02, -1.29882812e-01, -1.47460938e-01,\n",
            "        4.24804688e-02, -9.42382812e-02, -1.26953125e-01,  6.88476562e-02,\n",
            "       -6.49414062e-02,  8.17871094e-03,  5.07812500e-02, -9.81445312e-02,\n",
            "        2.21679688e-01, -5.10253906e-02,  8.98437500e-02,  1.63574219e-02,\n",
            "       -1.82617188e-01,  2.24609375e-02, -1.29882812e-01,  4.17480469e-02,\n",
            "       -3.34472656e-02,  7.99560547e-03, -1.33789062e-01, -1.01562500e-01,\n",
            "       -1.11328125e-01, -1.25976562e-01, -1.25000000e-01, -1.98242188e-01,\n",
            "       -9.86328125e-02, -1.30859375e-01, -1.66015625e-02, -2.83203125e-01,\n",
            "        5.98144531e-02,  1.16210938e-01, -3.56445312e-02,  1.74804688e-01,\n",
            "        1.28906250e-01,  4.44335938e-02,  1.67968750e-01, -2.53906250e-01,\n",
            "       -8.10546875e-02,  7.32421875e-02,  6.49414062e-02, -1.42578125e-01,\n",
            "        2.80761719e-02,  1.96838379e-03,  1.61132812e-01,  1.54296875e-01,\n",
            "       -1.12792969e-01,  6.64062500e-02, -1.00708008e-02, -4.00390625e-02,\n",
            "       -2.33459473e-03, -3.07617188e-02,  2.02941895e-03, -7.81250000e-02,\n",
            "        1.57470703e-02,  2.79541016e-02, -5.05371094e-02,  5.20019531e-02,\n",
            "        2.89062500e-01, -2.18750000e-01,  5.54199219e-02, -3.71093750e-02,\n",
            "        1.26953125e-01,  1.57470703e-02, -2.17773438e-01,  1.23535156e-01,\n",
            "        3.00292969e-02, -1.24511719e-01, -3.49121094e-02,  1.31225586e-02,\n",
            "       -1.67236328e-02, -5.27343750e-02, -1.70898438e-02, -4.22363281e-02,\n",
            "       -7.42187500e-02, -8.54492188e-02,  8.30078125e-02,  8.93554688e-02,\n",
            "        6.20117188e-02, -1.47705078e-02, -1.05468750e-01,  8.59375000e-02,\n",
            "        8.64257812e-02,  1.45507812e-01,  2.40478516e-02,  1.81640625e-01,\n",
            "       -3.71093750e-02, -7.51953125e-02,  3.14941406e-02,  1.66320801e-03,\n",
            "       -2.01416016e-02,  8.74023438e-02, -8.34960938e-02, -1.70898438e-02,\n",
            "        1.26342773e-02,  1.49414062e-01, -6.88476562e-02, -7.81250000e-03,\n",
            "       -3.02734375e-02,  5.46875000e-02, -8.60595703e-03, -5.29785156e-02,\n",
            "        9.27734375e-02,  1.56250000e-01,  3.39355469e-02,  1.12304688e-01,\n",
            "       -5.27343750e-02, -4.19921875e-02, -5.88989258e-03,  1.47460938e-01,\n",
            "        3.90625000e-02,  8.25195312e-02, -1.95312500e-01,  9.61914062e-02,\n",
            "        5.63964844e-02, -1.11083984e-02, -1.09375000e-01, -3.54003906e-02,\n",
            "        2.68554688e-02, -2.50000000e-01,  7.66601562e-02,  2.12890625e-01,\n",
            "       -1.04980469e-01,  6.59179688e-02, -9.81445312e-02, -2.28515625e-01,\n",
            "        1.03515625e-01, -1.09863281e-02,  1.07421875e-01, -3.61328125e-02,\n",
            "        5.37109375e-02,  6.78710938e-02,  1.68945312e-01,  6.54296875e-02,\n",
            "       -2.02636719e-02,  4.32128906e-02, -4.56542969e-02, -1.56250000e-02,\n",
            "       -1.25000000e-01,  8.25195312e-02,  2.88009644e-04,  1.03027344e-01,\n",
            "        7.12890625e-02,  1.91650391e-02, -5.78613281e-02,  8.15429688e-02,\n",
            "        9.81445312e-02,  9.32617188e-02,  9.37500000e-02, -5.12695312e-02,\n",
            "       -1.03759766e-02, -2.31933594e-02, -2.29492188e-01, -1.67968750e-01,\n",
            "        6.93359375e-02, -7.91015625e-02,  1.58203125e-01, -4.90722656e-02,\n",
            "        1.18164062e-01,  1.19628906e-01,  1.52343750e-01, -1.04980469e-01,\n",
            "       -3.63769531e-02, -8.83789062e-02,  1.16210938e-01,  1.05957031e-01,\n",
            "        2.71484375e-01,  7.56835938e-02,  3.22265625e-02,  1.58691406e-02,\n",
            "       -2.14843750e-02, -1.71875000e-01, -1.20605469e-01, -3.95507812e-02,\n",
            "       -5.76171875e-02, -8.78906250e-02, -9.66796875e-02,  7.86132812e-02,\n",
            "        2.21252441e-03,  5.52368164e-03, -1.62109375e-01, -1.47460938e-01,\n",
            "       -1.55273438e-01,  8.00781250e-02, -9.61914062e-02,  4.34570312e-02,\n",
            "       -1.61132812e-01,  2.73437500e-02,  4.98046875e-02, -1.51367188e-02,\n",
            "       -1.11694336e-02, -1.25000000e-01,  1.08886719e-01, -1.43554688e-01],\n",
            "      dtype=float32), array([-9.66796875e-02, -2.63671875e-02,  9.03320312e-02,  3.22265625e-02,\n",
            "       -2.45117188e-01,  5.61523438e-02,  2.52685547e-02, -9.39941406e-03,\n",
            "        5.49316406e-02,  6.12792969e-02, -9.52148438e-02,  2.22167969e-02,\n",
            "       -1.97753906e-02,  2.21679688e-01, -4.24804688e-02,  1.66015625e-02,\n",
            "       -7.27539062e-02,  3.76953125e-01, -2.09960938e-01,  1.18652344e-01,\n",
            "       -2.03125000e-01, -1.38671875e-01, -1.14135742e-02,  1.75781250e-02,\n",
            "        2.85156250e-01,  1.14746094e-01, -1.56250000e-01,  7.12890625e-02,\n",
            "       -8.34960938e-02, -2.01171875e-01, -1.01074219e-01, -7.42187500e-02,\n",
            "       -1.42578125e-01,  3.22265625e-02,  1.92382812e-01,  7.47070312e-02,\n",
            "       -3.14941406e-02, -2.96630859e-02,  8.93554688e-02, -3.56445312e-02,\n",
            "        3.22265625e-01,  3.61328125e-02, -9.39941406e-03,  1.05468750e-01,\n",
            "        1.15234375e-01, -1.44531250e-01,  3.96728516e-04,  5.83496094e-02,\n",
            "       -1.20605469e-01, -1.08398438e-01, -1.09252930e-02,  1.84570312e-01,\n",
            "       -1.38671875e-01, -3.41796875e-02,  1.51367188e-01, -3.32031250e-02,\n",
            "        2.09960938e-01, -1.94091797e-02,  1.84326172e-02,  1.15234375e-01,\n",
            "       -1.20605469e-01,  1.45507812e-01, -1.62109375e-01, -5.32226562e-02,\n",
            "       -6.98242188e-02, -1.09375000e-01, -1.26953125e-01,  2.49023438e-01,\n",
            "       -2.05078125e-01,  2.91748047e-02,  2.08740234e-02,  1.44531250e-01,\n",
            "        3.66210938e-02, -1.79443359e-02, -6.00585938e-02, -9.27734375e-02,\n",
            "        4.71191406e-02,  1.03759766e-02,  1.08642578e-02,  2.77343750e-01,\n",
            "        4.41894531e-02, -1.59179688e-01,  9.52148438e-02, -1.76757812e-01,\n",
            "        1.04980469e-01,  7.47070312e-02, -2.51953125e-01, -3.93066406e-02,\n",
            "        1.23046875e-01,  2.56347656e-02,  5.55419922e-03,  1.03515625e-01,\n",
            "       -1.52587891e-02, -1.44531250e-01,  8.69140625e-02, -7.27539062e-02,\n",
            "        1.04003906e-01,  2.30712891e-02,  1.51367188e-01,  5.88378906e-02,\n",
            "        8.49609375e-02, -8.49609375e-02, -4.49218750e-02,  1.50390625e-01,\n",
            "        5.58471680e-03, -1.29882812e-01,  5.68847656e-02, -1.78222656e-02,\n",
            "        1.64062500e-01,  1.96533203e-02,  4.12597656e-02, -4.05883789e-03,\n",
            "       -2.74658203e-03,  9.42382812e-02, -1.32812500e-01,  1.26953125e-01,\n",
            "        1.56250000e-01, -1.96289062e-01,  1.06933594e-01,  4.00390625e-02,\n",
            "        4.02832031e-02,  1.79687500e-01, -7.03125000e-02,  1.89208984e-02,\n",
            "        6.64062500e-02,  4.46319580e-04, -1.53320312e-01,  5.07812500e-02,\n",
            "        6.34765625e-02,  1.11083984e-02,  2.04101562e-01, -2.06054688e-01,\n",
            "        6.44531250e-02, -1.55273438e-01,  2.22167969e-02,  1.36718750e-02,\n",
            "        2.98828125e-01, -5.85937500e-02,  9.76562500e-02,  9.03320312e-03,\n",
            "        2.07519531e-02,  1.57470703e-02,  3.26171875e-01,  2.84423828e-02,\n",
            "       -4.54101562e-02,  8.88671875e-02,  1.20605469e-01, -1.25976562e-01,\n",
            "       -5.98144531e-02, -2.64892578e-02, -1.77734375e-01,  9.13085938e-02,\n",
            "       -3.80859375e-02, -9.52148438e-02,  2.73437500e-02, -1.91650391e-02,\n",
            "       -1.10351562e-01, -2.30468750e-01,  2.02941895e-03,  6.03027344e-02,\n",
            "       -1.00585938e-01,  2.22656250e-01, -2.77099609e-02,  3.36914062e-02,\n",
            "        1.44531250e-01, -7.27539062e-02, -1.32812500e-01, -1.62353516e-02,\n",
            "        1.64062500e-01, -8.54492188e-03, -4.66796875e-01, -3.45703125e-01,\n",
            "       -1.11328125e-01, -9.57031250e-02,  3.78417969e-02, -1.37695312e-01,\n",
            "       -1.80664062e-01,  7.12890625e-02,  1.53320312e-01,  6.83593750e-02,\n",
            "       -1.22558594e-01, -6.98242188e-02,  6.88476562e-02,  8.78906250e-03,\n",
            "        2.36816406e-02, -6.98242188e-02, -3.66210938e-02,  8.78906250e-02,\n",
            "        1.21582031e-01,  1.44531250e-01,  4.73632812e-02, -4.34570312e-02,\n",
            "       -6.71386719e-03, -1.21582031e-01, -2.79296875e-01,  1.44531250e-01,\n",
            "        5.44433594e-02, -2.09960938e-01, -8.93554688e-02, -7.08007812e-02,\n",
            "        1.76757812e-01,  1.95312500e-02, -1.01074219e-01, -6.64062500e-02,\n",
            "       -3.47656250e-01,  1.00097656e-01, -7.03125000e-02, -2.14843750e-01,\n",
            "       -1.55029297e-02,  1.50390625e-01,  9.42382812e-02, -1.45507812e-01,\n",
            "        1.10839844e-01,  7.91015625e-02, -8.05664062e-02,  1.50390625e-01,\n",
            "        1.45507812e-01, -1.13769531e-01, -2.59765625e-01, -6.78710938e-02,\n",
            "       -9.66796875e-02, -2.27539062e-01, -1.94335938e-01, -1.79687500e-01,\n",
            "        1.07421875e-01,  1.77001953e-02, -1.22070312e-01,  5.39550781e-02,\n",
            "       -1.25976562e-01,  8.39843750e-02,  1.22558594e-01,  1.57470703e-02,\n",
            "       -8.54492188e-02,  2.17773438e-01,  1.92382812e-01,  3.24707031e-02,\n",
            "       -7.81250000e-02,  1.01318359e-02,  1.07421875e-02,  4.17480469e-02,\n",
            "        6.59179688e-02,  1.64062500e-01,  4.51660156e-02,  1.95312500e-02,\n",
            "        6.17675781e-02,  1.24023438e-01,  1.06811523e-02,  2.31445312e-01,\n",
            "       -2.02148438e-01,  7.66601562e-02, -6.20117188e-02, -7.95898438e-02,\n",
            "        1.70898438e-01,  7.91015625e-02, -1.78222656e-02, -3.06396484e-02,\n",
            "        5.07812500e-02,  1.63085938e-01,  8.66699219e-03,  5.46875000e-02,\n",
            "        1.08398438e-01, -8.25195312e-02, -6.34765625e-02,  2.83203125e-01,\n",
            "       -1.85546875e-02,  4.16015625e-01, -2.61718750e-01,  2.51464844e-02,\n",
            "       -1.46484375e-02, -1.14746094e-01,  1.64062500e-01,  3.57421875e-01,\n",
            "        7.47070312e-02,  2.48046875e-01,  9.61914062e-02,  1.49414062e-01,\n",
            "       -1.86767578e-02, -2.71484375e-01, -5.41992188e-02, -9.86328125e-02,\n",
            "        7.71484375e-02, -1.91406250e-01, -1.42211914e-02, -1.28906250e-01,\n",
            "        5.46875000e-02,  6.64062500e-02, -1.72851562e-01, -4.32128906e-02,\n",
            "        1.42578125e-01,  9.96093750e-02,  2.41699219e-02, -1.23046875e-01,\n",
            "        3.14941406e-02,  3.93066406e-02,  3.22265625e-02,  2.08007812e-01,\n",
            "       -5.59082031e-02, -1.96533203e-02,  2.13867188e-01,  1.36718750e-01],\n",
            "      dtype=float32), array([ 0.03173828, -0.10644531,  0.00241089,  0.05249023,  0.18652344,\n",
            "       -0.22753906, -0.00595093, -0.08935547,  0.07666016,  0.10546875,\n",
            "       -0.08544922, -0.02282715, -0.01123047,  0.18945312, -0.10595703,\n",
            "        0.10400391, -0.01538086,  0.00038147, -0.18359375, -0.0019455 ,\n",
            "       -0.12255859, -0.11962891, -0.1640625 , -0.09472656,  0.10693359,\n",
            "        0.11132812, -0.04003906,  0.03540039,  0.00793457,  0.05517578,\n",
            "       -0.09228516, -0.06542969,  0.15234375, -0.05786133, -0.09960938,\n",
            "       -0.01165771,  0.07324219, -0.08398438,  0.03979492,  0.0090332 ,\n",
            "        0.12353516, -0.06176758, -0.02966309,  0.07763672, -0.01611328,\n",
            "        0.0703125 ,  0.16503906, -0.11083984, -0.04125977,  0.07861328,\n",
            "       -0.08203125,  0.11816406, -0.20605469, -0.12207031, -0.11914062,\n",
            "        0.10449219,  0.03637695, -0.0255127 ,  0.01879883,  0.04394531,\n",
            "       -0.10595703,  0.13769531,  0.04174805, -0.12207031, -0.18066406,\n",
            "        0.05175781, -0.09033203, -0.02441406, -0.0625    ,  0.06152344,\n",
            "       -0.09667969,  0.12109375,  0.01184082,  0.08984375, -0.14550781,\n",
            "        0.00909424, -0.04394531,  0.08105469,  0.0625    ,  0.05273438,\n",
            "        0.08300781, -0.15136719, -0.0177002 , -0.07373047, -0.10644531,\n",
            "       -0.08544922, -0.13867188, -0.16015625, -0.15625   , -0.00326538,\n",
            "       -0.03320312,  0.25195312, -0.15429688, -0.01104736, -0.14453125,\n",
            "       -0.04370117,  0.00042725, -0.06640625, -0.03320312,  0.11962891,\n",
            "        0.00836182, -0.08300781,  0.15332031, -0.05810547,  0.14257812,\n",
            "       -0.11914062,  0.05615234,  0.05053711,  0.08349609, -0.05737305,\n",
            "       -0.10693359, -0.01623535,  0.04492188, -0.08349609,  0.08789062,\n",
            "        0.05541992,  0.12207031,  0.10498047,  0.11328125,  0.11083984,\n",
            "       -0.11962891, -0.00860596, -0.03271484, -0.00352478, -0.05322266,\n",
            "       -0.17675781, -0.07470703, -0.00762939,  0.15429688,  0.18457031,\n",
            "        0.14257812, -0.09472656,  0.00585938, -0.00473022, -0.07373047,\n",
            "       -0.01342773, -0.10058594, -0.07666016, -0.00909424,  0.0703125 ,\n",
            "       -0.02575684, -0.07470703,  0.23925781,  0.11328125,  0.15625   ,\n",
            "        0.10888672,  0.00402832,  0.09667969, -0.14453125, -0.08398438,\n",
            "        0.02636719,  0.06542969, -0.14746094,  0.00772095, -0.05273438,\n",
            "        0.12158203, -0.07226562, -0.08642578,  0.05249023,  0.14355469,\n",
            "       -0.234375  , -0.00115967,  0.15039062,  0.02380371,  0.13085938,\n",
            "        0.01104736,  0.08203125,  0.04711914,  0.02783203, -0.10742188,\n",
            "       -0.234375  , -0.09960938, -0.11523438, -0.26757812,  0.07617188,\n",
            "       -0.16210938, -0.11181641, -0.04614258, -0.04516602,  0.12451172,\n",
            "       -0.03833008, -0.04174805,  0.01452637,  0.19042969,  0.08154297,\n",
            "        0.07861328,  0.09912109, -0.02331543,  0.16015625, -0.20605469,\n",
            "        0.08886719, -0.1640625 ,  0.10595703, -0.23144531, -0.18359375,\n",
            "        0.00262451,  0.22851562,  0.1328125 , -0.11669922, -0.07910156,\n",
            "       -0.06396484,  0.12988281,  0.07177734, -0.01879883, -0.03063965,\n",
            "       -0.19335938, -0.06201172, -0.10009766, -0.01098633, -0.05493164,\n",
            "        0.10498047, -0.01818848,  0.00230408, -0.01696777,  0.12011719,\n",
            "        0.05102539,  0.07861328, -0.00860596, -0.22167969,  0.01190186,\n",
            "       -0.05151367, -0.06542969,  0.10058594, -0.01177979,  0.11914062,\n",
            "       -0.16308594, -0.078125  ,  0.20800781, -0.07080078,  0.07910156,\n",
            "        0.10986328,  0.04663086,  0.09277344,  0.18554688,  0.00765991,\n",
            "       -0.07470703, -0.0267334 , -0.12109375, -0.02478027,  0.01544189,\n",
            "       -0.11767578,  0.25      ,  0.10742188, -0.23242188,  0.16699219,\n",
            "        0.02966309,  0.12890625, -0.00509644,  0.14746094, -0.03686523,\n",
            "       -0.04760742,  0.04101562, -0.11376953,  0.03930664,  0.09619141,\n",
            "        0.15429688,  0.16308594, -0.08203125, -0.05249023, -0.12060547,\n",
            "        0.06787109,  0.07324219, -0.15234375,  0.03930664,  0.22070312,\n",
            "        0.06445312, -0.02990723,  0.04077148, -0.18652344,  0.14648438,\n",
            "        0.3359375 ,  0.06298828, -0.04931641,  0.06640625,  0.22558594,\n",
            "       -0.05249023, -0.24511719, -0.02075195,  0.01428223, -0.17480469,\n",
            "        0.12597656, -0.07275391,  0.08056641,  0.04272461,  0.10595703,\n",
            "       -0.09277344, -0.04956055,  0.1328125 , -0.03112793,  0.23339844,\n",
            "       -0.05395508,  0.01623535, -0.12988281, -0.14550781, -0.09912109,\n",
            "        0.04370117, -0.02209473, -0.0625    , -0.10302734,  0.02929688],\n",
            "      dtype=float32), array([ 0.13867188,  0.24316406,  0.02258301,  0.09228516, -0.25      ,\n",
            "        0.00250244,  0.33984375, -0.11376953,  0.21582031,  0.09814453,\n",
            "       -0.11376953, -0.21972656,  0.08154297, -0.24707031, -0.03198242,\n",
            "        0.29101562,  0.16699219, -0.21679688, -0.2734375 , -0.30859375,\n",
            "        0.08300781,  0.09716797,  0.16308594,  0.13476562, -0.1796875 ,\n",
            "        0.17285156,  0.14453125,  0.35351562, -0.20214844, -0.15234375,\n",
            "        0.04223633, -0.05737305,  0.10107422,  0.32421875,  0.26171875,\n",
            "        0.25976562, -0.06445312, -0.09960938,  0.1328125 , -0.01104736,\n",
            "       -0.10742188,  0.04833984, -0.08935547,  0.0859375 , -0.05102539,\n",
            "        0.04736328,  0.00515747, -0.15332031, -0.22753906,  0.03955078,\n",
            "       -0.40039062, -0.24707031, -0.08398438,  0.13574219,  0.10742188,\n",
            "        0.06103516, -0.31445312,  0.11230469, -0.08349609, -0.41992188,\n",
            "        0.14257812,  0.03063965,  0.05004883,  0.17480469,  0.02844238,\n",
            "        0.15234375,  0.02661133,  0.32226562, -0.02661133, -0.25976562,\n",
            "       -0.08154297,  0.10107422,  0.11816406,  0.00546265,  0.07666016,\n",
            "       -0.00245667, -0.12988281, -0.18457031, -0.20605469,  0.19921875,\n",
            "       -0.09228516,  0.29296875,  0.17285156,  0.10644531, -0.02502441,\n",
            "       -0.265625  , -0.09375   ,  0.25585938, -0.03930664, -0.09960938,\n",
            "        0.47265625,  0.0859375 , -0.15625   ,  0.01300049,  0.37695312,\n",
            "       -0.02502441,  0.17871094,  0.06787109,  0.05078125,  0.03088379,\n",
            "       -0.03393555,  0.16601562,  0.16308594,  0.12060547,  0.22558594,\n",
            "       -0.20214844,  0.13769531,  0.04956055,  0.20117188, -0.0291748 ,\n",
            "        0.10693359, -0.28320312,  0.11767578, -0.00854492,  0.05004883,\n",
            "       -0.02966309,  0.14453125, -0.00405884,  0.06005859,  0.22753906,\n",
            "       -0.18066406,  0.15917969,  0.0402832 , -0.03442383, -0.11914062,\n",
            "       -0.08349609, -0.03881836,  0.13378906,  0.24316406,  0.16503906,\n",
            "       -0.17871094, -0.36328125,  0.10644531, -0.16308594, -0.19628906,\n",
            "       -0.23144531, -0.15625   ,  0.02392578, -0.01324463,  0.15820312,\n",
            "        0.09033203,  0.109375  ,  0.43554688,  0.02197266,  0.06347656,\n",
            "        0.23828125, -0.15332031, -0.0279541 , -0.52734375, -0.05786133,\n",
            "       -0.11914062,  0.07128906,  0.00343323,  0.04272461, -0.15527344,\n",
            "        0.37695312, -0.09667969,  0.06176758, -0.16699219, -0.3359375 ,\n",
            "       -0.00205994, -0.1328125 ,  0.19335938,  0.13574219, -0.03222656,\n",
            "       -0.4140625 , -0.25976562,  0.22363281, -0.03979492,  0.01135254,\n",
            "       -0.09130859,  0.09033203, -0.31640625,  0.09472656,  0.11279297,\n",
            "       -0.0112915 ,  0.03930664, -0.16894531,  0.03979492, -0.07910156,\n",
            "       -0.25      , -0.19238281, -0.05151367,  0.05175781,  0.12695312,\n",
            "       -0.14453125, -0.12011719,  0.08837891,  0.23925781,  0.03979492,\n",
            "       -0.23828125, -0.16015625,  0.14160156,  0.10009766, -0.10546875,\n",
            "        0.05810547, -0.21386719, -0.03540039,  0.07275391, -0.05053711,\n",
            "        0.0534668 ,  0.10986328, -0.28125   ,  0.09179688,  0.05224609,\n",
            "       -0.13378906,  0.06494141,  0.05200195,  0.02111816,  0.14941406,\n",
            "        0.36328125,  0.12402344,  0.04833984,  0.1953125 , -0.54296875,\n",
            "       -0.0030365 ,  0.20898438,  0.02038574, -0.04980469,  0.29882812,\n",
            "        0.12792969, -0.03466797, -0.09179688,  0.08496094,  0.03149414,\n",
            "       -0.22460938,  0.02844238, -0.10839844,  0.109375  ,  0.15722656,\n",
            "       -0.140625  , -0.01049805,  0.01660156,  0.03955078,  0.2109375 ,\n",
            "       -0.00291443,  0.11328125, -0.05541992,  0.04833984, -0.36328125,\n",
            "       -0.10253906,  0.07470703, -0.04858398, -0.07910156,  0.00778198,\n",
            "        0.03442383, -0.09082031,  0.11669922, -0.0390625 ,  0.12792969,\n",
            "        0.05395508,  0.09375   ,  0.04882812, -0.11816406,  0.06030273,\n",
            "       -0.12109375,  0.140625  ,  0.18164062,  0.08740234,  0.16308594,\n",
            "       -0.07275391,  0.10351562, -0.21582031,  0.05517578,  0.04150391,\n",
            "        0.34179688, -0.14453125,  0.16601562, -0.08056641, -0.11962891,\n",
            "       -0.06030273, -0.234375  ,  0.11865234,  0.02185059,  0.06347656,\n",
            "        0.04345703, -0.04882812, -0.30078125, -0.10302734, -0.12890625,\n",
            "        0.03588867, -0.171875  , -0.18945312, -0.18359375, -0.26171875,\n",
            "        0.10351562,  0.00866699,  0.11376953, -0.17675781, -0.05981445,\n",
            "       -0.11914062,  0.12304688, -0.1328125 , -0.13378906,  0.10058594,\n",
            "       -0.07470703,  0.23925781,  0.05151367,  0.32421875,  0.08105469],\n",
            "      dtype=float32), array([-0.01806641, -0.05175781, -0.02478027,  0.07763672,  0.00933838,\n",
            "       -0.12695312, -0.11669922,  0.16601562,  0.0559082 , -0.078125  ,\n",
            "       -0.02880859,  0.06933594, -0.10449219, -0.07958984, -0.41210938,\n",
            "        0.19433594,  0.05102539, -0.03979492, -0.0213623 ,  0.13183594,\n",
            "       -0.12597656,  0.06079102, -0.20117188, -0.05419922,  0.22753906,\n",
            "        0.11328125, -0.04882812,  0.0019455 ,  0.06079102, -0.19140625,\n",
            "        0.06445312, -0.04223633, -0.01348877,  0.06738281,  0.11328125,\n",
            "       -0.05322266,  0.19238281,  0.00331116,  0.16015625,  0.2421875 ,\n",
            "        0.203125  ,  0.171875  ,  0.15332031, -0.21777344,  0.00343323,\n",
            "       -0.10644531, -0.01708984,  0.05639648, -0.06982422, -0.14160156,\n",
            "        0.16796875, -0.05566406,  0.03637695,  0.09765625,  0.06445312,\n",
            "        0.04614258,  0.04541016, -0.05859375, -0.05102539, -0.18457031,\n",
            "        0.04760742,  0.00546265, -0.3515625 , -0.01464844, -0.18847656,\n",
            "        0.06445312, -0.06494141,  0.15039062,  0.14355469,  0.06835938,\n",
            "       -0.3359375 ,  0.08300781,  0.19921875, -0.02148438, -0.07617188,\n",
            "       -0.08935547, -0.03369141,  0.32617188, -0.20800781,  0.13378906,\n",
            "       -0.18359375, -0.19921875, -0.07617188,  0.125     , -0.15917969,\n",
            "       -0.01086426, -0.10546875,  0.2890625 ,  0.02966309,  0.03540039,\n",
            "        0.23242188, -0.15820312, -0.16894531, -0.05493164,  0.05419922,\n",
            "       -0.00775146, -0.09716797, -0.21582031,  0.26171875, -0.12792969,\n",
            "        0.02490234, -0.14746094, -0.05786133, -0.13574219,  0.14550781,\n",
            "       -0.09960938, -0.15039062,  0.12890625,  0.29101562, -0.07763672,\n",
            "        0.00793457,  0.11376953,  0.02453613, -0.09472656,  0.12695312,\n",
            "        0.01300049,  0.12158203, -0.06445312,  0.20800781,  0.14160156,\n",
            "       -0.03857422, -0.05224609, -0.14453125,  0.06640625,  0.01239014,\n",
            "       -0.07910156, -0.04956055, -0.02404785, -0.01147461, -0.0324707 ,\n",
            "       -0.18847656,  0.19238281,  0.19921875, -0.13964844, -0.17578125,\n",
            "       -0.02294922,  0.12890625, -0.13671875, -0.02087402, -0.08935547,\n",
            "        0.14257812, -0.18652344,  0.07421875,  0.19335938,  0.08740234,\n",
            "        0.07275391,  0.18359375, -0.04833984, -0.0559082 , -0.07666016,\n",
            "        0.08056641, -0.07080078, -0.30664062,  0.13769531, -0.07763672,\n",
            "        0.05834961, -0.09716797,  0.02392578, -0.13378906, -0.09570312,\n",
            "        0.00259399,  0.08007812,  0.00219727, -0.10351562,  0.16894531,\n",
            "       -0.06835938, -0.21777344, -0.17480469,  0.19824219, -0.12451172,\n",
            "       -0.04736328, -0.13476562,  0.1171875 , -0.16992188, -0.04882812,\n",
            "       -0.20117188,  0.07324219,  0.03320312, -0.30859375, -0.11425781,\n",
            "       -0.21386719,  0.19042969, -0.21289062, -0.04760742,  0.02575684,\n",
            "       -0.00915527,  0.00500488,  0.14257812,  0.04663086,  0.05615234,\n",
            "       -0.46289062, -0.12255859, -0.03881836, -0.24804688, -0.04345703,\n",
            "        0.01953125, -0.20214844, -0.265625  ,  0.12988281, -0.2578125 ,\n",
            "        0.0267334 , -0.13085938,  0.09179688,  0.23632812, -0.3515625 ,\n",
            "        0.09863281,  0.296875  , -0.24609375, -0.02624512,  0.05053711,\n",
            "        0.15527344, -0.12158203, -0.16113281,  0.3828125 , -0.19726562,\n",
            "        0.29296875,  0.04443359,  0.08642578, -0.06054688,  0.0189209 ,\n",
            "       -0.03686523, -0.06201172, -0.11376953,  0.10498047, -0.2734375 ,\n",
            "       -0.06982422,  0.02209473, -0.02722168, -0.02746582, -0.19921875,\n",
            "       -0.20214844,  0.01556396, -0.05175781, -0.00750732,  0.07177734,\n",
            "       -0.125     ,  0.19824219,  0.0402832 ,  0.05224609, -0.16308594,\n",
            "       -0.08837891, -0.02563477, -0.22265625,  0.15625   ,  0.44335938,\n",
            "       -0.21875   , -0.01696777,  0.12158203,  0.03857422, -0.203125  ,\n",
            "       -0.08691406, -0.23730469,  0.05493164, -0.16113281, -0.35546875,\n",
            "       -0.07275391,  0.01281738,  0.08544922,  0.15234375,  0.15429688,\n",
            "       -0.01855469, -0.16308594,  0.17285156,  0.0111084 , -0.15332031,\n",
            "        0.29882812, -0.18945312,  0.02197266, -0.125     ,  0.11962891,\n",
            "       -0.09960938,  0.18164062,  0.1328125 ,  0.01489258, -0.13476562,\n",
            "        0.23632812, -0.03125   ,  0.14160156,  0.04101562, -0.23535156,\n",
            "       -0.1796875 , -0.09423828,  0.14453125,  0.11767578, -0.23925781,\n",
            "       -0.05639648,  0.10302734, -0.08349609,  0.07421875,  0.13476562,\n",
            "       -0.0378418 , -0.10009766, -0.21679688,  0.15234375,  0.16796875,\n",
            "       -0.08447266,  0.07666016,  0.11328125, -0.10498047, -0.11083984],\n",
            "      dtype=float32), array([ 1.37695312e-01,  1.41601562e-01,  2.07031250e-01,  8.83789062e-02,\n",
            "       -2.55859375e-01, -1.39648438e-01,  2.36328125e-01,  1.52343750e-01,\n",
            "        2.21679688e-01,  1.03149414e-02, -2.09960938e-01,  9.32617188e-02,\n",
            "       -2.30712891e-02,  1.83593750e-01, -2.63671875e-01,  1.32812500e-01,\n",
            "        6.88476562e-02, -2.12402344e-02, -1.02050781e-01, -1.10839844e-01,\n",
            "       -7.81250000e-02, -2.83203125e-01,  1.60156250e-01,  7.95898438e-02,\n",
            "        3.71093750e-01, -3.82995605e-03, -1.51367188e-01, -2.81982422e-02,\n",
            "        1.11816406e-01, -3.95507812e-02, -1.18652344e-01, -1.42578125e-01,\n",
            "       -1.25976562e-01, -3.12500000e-01, -1.47460938e-01, -1.36718750e-02,\n",
            "        1.14746094e-01,  1.08886719e-01, -1.16210938e-01, -1.23046875e-01,\n",
            "        1.76757812e-01, -8.93554688e-02,  1.86523438e-01, -2.08984375e-01,\n",
            "       -5.22460938e-02, -2.00195312e-01,  4.98046875e-02, -1.58691406e-02,\n",
            "       -1.25976562e-01, -6.48498535e-04, -2.83203125e-01,  7.09533691e-04,\n",
            "        2.00195312e-02,  5.85937500e-02,  1.05957031e-01, -1.54296875e-01,\n",
            "        1.95312500e-01, -2.87109375e-01,  1.29882812e-01,  1.05957031e-01,\n",
            "        2.01171875e-01,  2.62451172e-02, -8.30078125e-02, -2.75390625e-01,\n",
            "       -7.17773438e-02, -3.65234375e-01, -1.60156250e-01,  2.91015625e-01,\n",
            "       -2.00195312e-01, -1.75781250e-01, -1.19140625e-01,  1.48925781e-02,\n",
            "        1.48437500e-01,  1.55273438e-01, -1.04980469e-01, -1.92382812e-01,\n",
            "       -2.83203125e-02,  2.89062500e-01,  1.47460938e-01,  1.38671875e-01,\n",
            "       -1.51367188e-01, -1.28906250e-01, -8.44726562e-02, -1.15234375e-01,\n",
            "        5.83496094e-02,  1.25976562e-01,  5.92041016e-03,  3.24707031e-02,\n",
            "       -1.52343750e-01, -6.34765625e-02,  1.34765625e-01, -4.66796875e-01,\n",
            "        3.66210938e-02, -1.71875000e-01,  9.81445312e-02, -1.06933594e-01,\n",
            "        1.53320312e-01, -1.32446289e-02, -5.76171875e-02,  1.68945312e-01,\n",
            "        8.05664062e-02, -7.37304688e-02,  2.01416016e-03, -1.24511719e-02,\n",
            "       -3.11279297e-02,  5.56640625e-02, -1.34765625e-01, -1.77734375e-01,\n",
            "        2.02148438e-01,  1.82617188e-01, -2.67578125e-01, -2.89306641e-02,\n",
            "       -2.53906250e-01, -9.27734375e-02,  4.80468750e-01,  2.40478516e-02,\n",
            "        5.15136719e-02,  9.57031250e-02, -1.79687500e-01,  1.01074219e-01,\n",
            "        4.66308594e-02, -2.12402344e-02,  8.64257812e-02, -1.69921875e-01,\n",
            "        7.08007812e-02, -1.90429688e-01,  7.71484375e-02,  2.70080566e-03,\n",
            "       -9.52148438e-03, -2.18750000e-01, -7.12890625e-02, -1.96533203e-02,\n",
            "        7.51953125e-02, -1.38671875e-01, -4.63867188e-02, -3.41796875e-02,\n",
            "        9.61914062e-02, -2.13867188e-01, -2.65625000e-01,  4.90722656e-02,\n",
            "        1.36718750e-02, -3.08593750e-01,  2.01416016e-02, -1.14135742e-02,\n",
            "        1.22558594e-01, -6.64062500e-02, -2.36816406e-02, -2.81982422e-02,\n",
            "        2.21679688e-01,  1.51367188e-02, -8.34960938e-02,  1.12304688e-01,\n",
            "       -2.18505859e-02,  3.85742188e-02,  5.68847656e-02, -8.15429688e-02,\n",
            "       -3.33984375e-01, -4.15039062e-02, -1.82617188e-01,  6.29882812e-02,\n",
            "        2.07519531e-02,  1.63085938e-01, -1.72851562e-01, -5.93261719e-02,\n",
            "        1.55273438e-01, -2.85156250e-01,  2.24609375e-01, -1.04003906e-01,\n",
            "       -6.50024414e-03, -2.34375000e-02, -3.12500000e-01, -1.12304688e-01,\n",
            "       -4.41406250e-01, -1.45507812e-01,  2.04101562e-01,  9.76562500e-02,\n",
            "        1.94335938e-01,  3.80859375e-02, -1.23046875e-01,  1.14257812e-01,\n",
            "       -1.78710938e-01, -6.59179688e-02,  9.61914062e-02,  1.39648438e-01,\n",
            "        6.34765625e-02,  8.88671875e-02, -4.42504883e-03, -1.55639648e-02,\n",
            "       -3.79943848e-03,  2.65625000e-01, -3.11279297e-03,  8.15429688e-02,\n",
            "       -1.04522705e-03,  3.56445312e-02,  1.51367188e-01, -1.72851562e-01,\n",
            "        1.66992188e-01, -6.68945312e-02, -1.18164062e-01, -2.49023438e-01,\n",
            "        6.44531250e-02,  2.43164062e-01,  8.15429688e-02, -2.57568359e-02,\n",
            "        1.45874023e-02, -5.12695312e-02, -1.31835938e-01,  3.03955078e-02,\n",
            "       -1.70898438e-02, -2.65625000e-01,  5.12695312e-02,  2.28515625e-01,\n",
            "        1.74804688e-01, -1.10351562e-01, -3.65234375e-01, -1.82617188e-01,\n",
            "        8.88671875e-02, -1.71875000e-01, -2.40234375e-01,  5.95703125e-02,\n",
            "       -1.29882812e-01, -2.22656250e-01, -2.96875000e-01,  2.01171875e-01,\n",
            "        4.66918945e-03,  6.22558594e-03,  2.69531250e-01, -1.62109375e-01,\n",
            "        1.11816406e-01, -1.20117188e-01,  1.69921875e-01, -5.61523438e-02,\n",
            "       -1.98974609e-02,  4.61425781e-02,  9.71679688e-02,  2.80761719e-02,\n",
            "       -8.78906250e-02, -1.36718750e-01,  3.78417969e-02, -9.86328125e-02,\n",
            "       -4.58984375e-02,  2.50244141e-02,  1.03149414e-02, -1.82617188e-01,\n",
            "        1.04003906e-01, -3.32031250e-02, -4.78744507e-04,  5.61523438e-02,\n",
            "        1.27563477e-02, -6.78710938e-02, -8.34960938e-02, -3.93066406e-02,\n",
            "        1.93359375e-01, -2.47955322e-04, -1.03027344e-01, -5.73730469e-02,\n",
            "        2.02148438e-01, -4.11987305e-03, -7.95898438e-02,  2.09960938e-01,\n",
            "       -4.32128906e-02,  1.52343750e-01, -5.59082031e-02,  2.12890625e-01,\n",
            "        1.43554688e-01,  8.83789062e-02, -1.42578125e-01, -4.17480469e-02,\n",
            "       -1.82617188e-01, -3.63769531e-02,  1.25000000e-01,  1.69921875e-01,\n",
            "        3.05175781e-03,  2.65625000e-01, -1.79687500e-01, -5.40161133e-03,\n",
            "       -1.66992188e-01, -1.26953125e-01, -5.55419922e-03,  6.34765625e-02,\n",
            "       -6.25000000e-02, -5.10253906e-02,  1.76757812e-01,  5.44433594e-02,\n",
            "       -1.48437500e-01, -9.13085938e-02,  5.05371094e-02,  1.77734375e-01,\n",
            "       -3.66210938e-02,  1.04492188e-01,  1.74804688e-01,  8.05664062e-02,\n",
            "       -1.60156250e-01,  5.73730469e-02, -7.56835938e-02,  1.77734375e-01,\n",
            "       -2.01171875e-01,  4.19921875e-02,  1.73828125e-01, -1.10351562e-01],\n",
            "      dtype=float32), array([ 0.06445312,  0.03613281,  0.03857422,  0.09472656, -0.1875    ,\n",
            "       -0.06787109, -0.01879883, -0.02685547, -0.05688477,  0.09716797,\n",
            "       -0.00430298, -0.125     , -0.12890625,  0.06591797, -0.23242188,\n",
            "       -0.01000977,  0.04248047,  0.03088379,  0.03466797, -0.00509644,\n",
            "       -0.04492188, -0.16992188,  0.04516602, -0.12792969,  0.10107422,\n",
            "       -0.03173828, -0.03417969, -0.10400391, -0.00860596, -0.14941406,\n",
            "       -0.08300781,  0.12890625, -0.14648438, -0.1484375 , -0.01190186,\n",
            "       -0.00765991,  0.09619141, -0.05004883,  0.07714844,  0.05957031,\n",
            "        0.12988281, -0.03063965,  0.21289062, -0.07714844,  0.00891113,\n",
            "        0.02246094,  0.07763672,  0.12207031,  0.01928711,  0.13769531,\n",
            "        0.09228516,  0.11279297, -0.04785156,  0.03088379, -0.05639648,\n",
            "       -0.03637695, -0.00842285,  0.02978516, -0.01904297, -0.02990723,\n",
            "        0.04272461,  0.1484375 , -0.16113281, -0.07958984, -0.05834961,\n",
            "       -0.10058594, -0.06054688,  0.21191406, -0.02832031,  0.01068115,\n",
            "       -0.01385498,  0.140625  , -0.00439453, -0.12304688, -0.19042969,\n",
            "       -0.08251953,  0.13964844,  0.16796875,  0.05859375,  0.07373047,\n",
            "       -0.10839844, -0.10791016, -0.00151062,  0.04638672, -0.15332031,\n",
            "       -0.09570312, -0.06884766,  0.03808594, -0.08984375,  0.07958984,\n",
            "       -0.1015625 ,  0.05029297, -0.11816406, -0.13183594,  0.0859375 ,\n",
            "       -0.02905273, -0.02832031,  0.07324219, -0.01660156, -0.13671875,\n",
            "        0.0546875 , -0.16601562, -0.02514648,  0.12695312, -0.10058594,\n",
            "       -0.03833008, -0.05639648, -0.17773438,  0.21875   , -0.11669922,\n",
            "       -0.09423828,  0.03442383, -0.05444336,  0.05810547,  0.0011673 ,\n",
            "        0.00680542,  0.2109375 , -0.13378906, -0.00318909, -0.05322266,\n",
            "       -0.14160156, -0.12402344, -0.01123047, -0.04174805, -0.09765625,\n",
            "       -0.04296875, -0.13183594, -0.17480469,  0.02648926,  0.01928711,\n",
            "       -0.05688477, -0.17089844, -0.17773438, -0.11425781, -0.16796875,\n",
            "       -0.05273438,  0.04541016, -0.00958252, -0.0291748 ,  0.05786133,\n",
            "       -0.02172852, -0.16210938,  0.15429688, -0.08447266,  0.07666016,\n",
            "        0.0534668 , -0.08007812, -0.2109375 , -0.08496094,  0.03271484,\n",
            "        0.01318359,  0.11865234, -0.30859375, -0.04589844,  0.03295898,\n",
            "        0.08349609, -0.17480469, -0.04174805, -0.07226562,  0.20996094,\n",
            "       -0.00671387,  0.14355469, -0.08105469,  0.16308594, -0.00123596,\n",
            "       -0.19042969, -0.05249023,  0.03491211,  0.09765625, -0.05810547,\n",
            "       -0.25585938, -0.10888672, -0.09082031, -0.06298828,  0.04101562,\n",
            "        0.01116943,  0.13671875, -0.00097656, -0.06030273,  0.01928711,\n",
            "       -0.07617188,  0.06152344,  0.08789062, -0.07666016,  0.11083984,\n",
            "       -0.21972656, -0.08935547,  0.12890625,  0.15332031,  0.05419922,\n",
            "        0.02197266,  0.05932617, -0.01416016, -0.02075195, -0.00570679,\n",
            "       -0.01300049, -0.00110626,  0.05175781, -0.10351562, -0.12158203,\n",
            "        0.08300781,  0.01794434,  0.078125  , -0.03979492,  0.10302734,\n",
            "        0.06689453, -0.0534668 , -0.08300781,  0.03759766, -0.04174805,\n",
            "        0.0625    , -0.01953125, -0.0402832 ,  0.05224609, -0.18457031,\n",
            "       -0.09375   ,  0.22460938,  0.01141357, -0.17285156,  0.02246094,\n",
            "       -0.09423828, -0.02539062, -0.04858398, -0.10595703,  0.06494141,\n",
            "       -0.06494141,  0.15917969,  0.078125  , -0.10498047, -0.06689453,\n",
            "        0.03808594, -0.11621094,  0.06005859,  0.06982422,  0.18652344,\n",
            "       -0.09033203, -0.07666016, -0.04663086,  0.12695312, -0.10009766,\n",
            "       -0.07958984,  0.00970459,  0.00421143, -0.03112793, -0.00564575,\n",
            "       -0.00312805,  0.02880859,  0.16992188, -0.0625    ,  0.02905273,\n",
            "        0.09375   , -0.0559082 ,  0.06347656, -0.03369141, -0.04394531,\n",
            "       -0.04614258,  0.02685547, -0.01599121,  0.02172852, -0.12158203,\n",
            "       -0.0098877 , -0.05786133, -0.21484375,  0.20117188,  0.06152344,\n",
            "        0.11035156, -0.12597656,  0.08544922,  0.00445557,  0.06176758,\n",
            "        0.19238281,  0.21191406,  0.17578125,  0.3515625 ,  0.00656128,\n",
            "       -0.00411987, -0.04516602, -0.12011719, -0.10986328,  0.01660156,\n",
            "        0.02392578, -0.12060547,  0.11621094,  0.01043701, -0.078125  ,\n",
            "       -0.04663086,  0.08007812,  0.01635742,  0.01794434,  0.10058594,\n",
            "       -0.01147461,  0.01245117, -0.11865234, -0.06640625,  0.02038574,\n",
            "        0.06054688, -0.05322266, -0.16308594,  0.12890625, -0.06030273],\n",
            "      dtype=float32), array([ 9.37500000e-02, -9.32617188e-02,  5.44433594e-02,  2.01416016e-03,\n",
            "        3.82995605e-03,  6.73828125e-02,  1.80664062e-02, -1.89453125e-01,\n",
            "        1.43554688e-01,  2.17285156e-02, -1.26953125e-02, -1.21582031e-01,\n",
            "       -5.93261719e-02,  6.68945312e-02, -1.19628906e-01,  3.46679688e-02,\n",
            "        1.33789062e-01, -4.22363281e-02,  2.25830078e-03, -3.93066406e-02,\n",
            "       -6.49414062e-02,  2.31933594e-02, -1.38671875e-01, -2.13623047e-02,\n",
            "        2.85644531e-02, -4.85839844e-02, -1.78710938e-01,  1.52343750e-01,\n",
            "        2.19726562e-02,  5.10253906e-02, -7.81250000e-02,  1.56250000e-02,\n",
            "        4.34570312e-02,  2.97851562e-02,  2.78320312e-02, -8.98437500e-02,\n",
            "       -5.56640625e-02, -2.34375000e-02, -6.44531250e-02, -1.37939453e-02,\n",
            "        1.92382812e-01,  5.79833984e-03,  1.21093750e-01, -4.91333008e-03,\n",
            "        1.21093750e-01,  3.00292969e-02,  5.51757812e-02, -3.80859375e-02,\n",
            "       -1.92871094e-02, -5.98144531e-02, -3.67736816e-03, -2.62451172e-02,\n",
            "       -1.72119141e-02,  2.23388672e-02, -6.00585938e-02, -5.79833984e-03,\n",
            "       -6.88476562e-02, -7.03125000e-02,  8.10546875e-02, -4.46777344e-02,\n",
            "        3.83300781e-02,  1.50390625e-01,  2.88085938e-02, -2.01171875e-01,\n",
            "       -5.56640625e-02, -3.83300781e-02, -6.29882812e-02,  1.16699219e-01,\n",
            "       -7.08007812e-02,  1.31835938e-01, -4.37011719e-02,  8.34960938e-02,\n",
            "        4.41894531e-02, -2.12097168e-03, -1.06445312e-01, -3.18908691e-03,\n",
            "        4.95605469e-02,  8.30078125e-02,  2.92968750e-02,  3.93066406e-02,\n",
            "        5.73730469e-02, -1.32812500e-01,  5.46875000e-02,  7.56835938e-02,\n",
            "       -2.38281250e-01, -1.23535156e-01, -2.01416016e-02,  1.10839844e-01,\n",
            "       -8.97216797e-03, -1.15722656e-01, -2.79541016e-02,  6.39648438e-02,\n",
            "       -1.79687500e-01, -4.98046875e-02, -8.42285156e-03, -1.12792969e-01,\n",
            "       -3.56445312e-02, -2.09045410e-03, -1.69921875e-01,  2.08007812e-01,\n",
            "        6.05468750e-02, -4.61425781e-02,  6.86645508e-03, -4.88281250e-02,\n",
            "       -1.00097656e-01, -7.14111328e-03, -3.71093750e-02, -1.42822266e-02,\n",
            "        1.69677734e-02, -6.25000000e-02,  4.98046875e-02,  5.00488281e-02,\n",
            "       -1.19140625e-01,  7.17773438e-02,  4.95605469e-02,  6.29882812e-02,\n",
            "        8.98437500e-02, -1.28906250e-01,  1.27929688e-01,  1.30859375e-01,\n",
            "       -1.14746094e-01,  6.07910156e-02, -2.24609375e-02,  1.57226562e-01,\n",
            "       -1.87500000e-01, -3.41796875e-02,  2.29492188e-02, -9.47265625e-02,\n",
            "       -7.44628906e-03,  3.68652344e-02,  3.41796875e-02, -5.78613281e-02,\n",
            "       -1.64794922e-02, -1.25976562e-01, -4.68750000e-02, -1.58203125e-01,\n",
            "       -6.03027344e-02, -8.85009766e-04,  4.39453125e-02, -1.77001953e-02,\n",
            "       -2.08740234e-02, -2.21679688e-01,  8.20312500e-02, -3.41796875e-02,\n",
            "        9.37500000e-02, -6.73828125e-02, -1.29882812e-01, -8.10546875e-02,\n",
            "       -8.36181641e-03,  2.25830078e-02,  1.05590820e-02,  4.34570312e-02,\n",
            "       -8.49609375e-02, -8.85009766e-03, -2.58789062e-02,  8.25195312e-02,\n",
            "       -3.49121094e-02, -8.69140625e-02, -1.29882812e-01, -5.24902344e-02,\n",
            "       -6.25000000e-02,  6.93359375e-02,  1.04492188e-01, -9.32617188e-02,\n",
            "        1.63574219e-02, -5.05371094e-02,  6.73828125e-02,  1.04492188e-01,\n",
            "       -6.54296875e-02, -9.96093750e-02, -9.37500000e-02, -5.79833984e-03,\n",
            "        8.30078125e-02, -1.07421875e-01,  2.44140625e-02,  8.05664062e-03,\n",
            "       -9.94873047e-03, -1.29882812e-01, -5.02929688e-02, -5.51757812e-02,\n",
            "       -2.25830078e-02, -1.21582031e-01, -1.67236328e-02,  8.05664062e-02,\n",
            "       -1.27929688e-01,  9.27734375e-02, -5.56640625e-02, -2.23159790e-04,\n",
            "       -5.03540039e-03,  4.88281250e-02, -4.19921875e-02, -6.78710938e-02,\n",
            "        2.08740234e-02,  1.81884766e-02, -3.38745117e-03,  8.17871094e-03,\n",
            "       -2.85644531e-02, -1.57470703e-02, -2.08984375e-01, -1.71875000e-01,\n",
            "        7.81250000e-02,  8.74023438e-02,  1.08886719e-01,  1.19140625e-01,\n",
            "        3.61328125e-02, -3.36914062e-02, -4.27246094e-02,  4.63867188e-02,\n",
            "       -2.30407715e-03,  8.72802734e-03, -8.88671875e-02,  9.32617188e-02,\n",
            "        1.58691406e-02,  9.57031250e-02, -1.02050781e-01,  1.39648438e-01,\n",
            "        4.66308594e-02, -8.69140625e-02, -1.24023438e-01,  2.78320312e-02,\n",
            "       -2.63671875e-02,  1.38671875e-01, -5.27343750e-02, -6.73828125e-02,\n",
            "        1.08398438e-01,  2.55126953e-02,  1.10839844e-01,  4.58984375e-02,\n",
            "        3.93066406e-02,  2.64892578e-02,  8.42285156e-03, -8.15429688e-02,\n",
            "        2.22656250e-01,  9.81445312e-02,  3.54003906e-03, -1.28173828e-03,\n",
            "        2.08740234e-02, -8.05664062e-02, -3.97949219e-02,  7.27539062e-02,\n",
            "        3.29589844e-02,  2.35595703e-02,  5.32226562e-02, -2.19726562e-01,\n",
            "        4.00390625e-02,  1.40991211e-02,  1.48925781e-02,  9.57031250e-02,\n",
            "       -6.93359375e-02, -2.31933594e-02,  3.29589844e-02, -1.50390625e-01,\n",
            "        1.59179688e-01,  1.68457031e-02,  1.45507812e-01,  1.53808594e-02,\n",
            "        1.30859375e-01,  5.22460938e-02, -8.20312500e-02, -1.34765625e-01,\n",
            "       -3.38745117e-03,  1.73950195e-03, -1.27929688e-01,  1.44042969e-02,\n",
            "        3.12500000e-02, -4.69970703e-03,  2.03857422e-02,  2.84423828e-02,\n",
            "       -6.49414062e-02, -7.26318359e-03,  1.41601562e-01, -4.90722656e-02,\n",
            "        1.30859375e-01,  7.22656250e-02,  3.88183594e-02, -1.66992188e-01,\n",
            "       -1.47460938e-01, -1.57226562e-01, -5.49316406e-02, -1.57470703e-02,\n",
            "        7.12890625e-02, -2.90527344e-02,  1.08398438e-01,  4.90722656e-02,\n",
            "       -6.03027344e-02, -4.02832031e-02, -1.28906250e-01, -9.76562500e-02,\n",
            "       -1.13281250e-01,  9.71679688e-02, -4.17480469e-02, -4.66308594e-02,\n",
            "        7.44628906e-03, -7.32421875e-02,  2.17285156e-02,  1.42578125e-01,\n",
            "       -6.78710938e-02, -9.27734375e-02, -2.45361328e-02, -8.49609375e-02],\n",
            "      dtype=float32), array([ 0.12304688,  0.01281738,  0.01940918,  0.23046875, -0.17382812,\n",
            "        0.02636719,  0.14941406, -0.04956055,  0.02978516, -0.0402832 ,\n",
            "       -0.16894531, -0.10449219, -0.06347656,  0.06982422, -0.20410156,\n",
            "        0.2890625 ,  0.13574219,  0.1484375 ,  0.10400391, -0.17578125,\n",
            "       -0.17089844, -0.02258301,  0.10205078,  0.04833984,  0.05151367,\n",
            "       -0.00650024, -0.00540161,  0.0037384 , -0.06225586, -0.05078125,\n",
            "       -0.04052734,  0.15625   ,  0.01599121, -0.18847656,  0.00040436,\n",
            "        0.01287842,  0.08935547,  0.07861328,  0.07177734,  0.12695312,\n",
            "        0.13085938,  0.06982422,  0.2265625 , -0.03710938, -0.07763672,\n",
            "       -0.01171875, -0.05078125, -0.125     , -0.04589844, -0.07470703,\n",
            "       -0.12695312,  0.16308594, -0.01556396, -0.05249023,  0.02978516,\n",
            "        0.02819824, -0.10888672, -0.04760742,  0.05249023, -0.02038574,\n",
            "        0.10205078,  0.04736328, -0.19238281, -0.10253906,  0.08496094,\n",
            "       -0.09228516, -0.16796875,  0.15429688, -0.05322266, -0.05078125,\n",
            "        0.19824219,  0.18359375,  0.08789062,  0.01672363, -0.3828125 ,\n",
            "       -0.171875  , -0.01519775,  0.09179688,  0.03637695,  0.11230469,\n",
            "       -0.11425781, -0.03051758,  0.04296875,  0.06445312, -0.10546875,\n",
            "       -0.11279297, -0.06347656,  0.16796875,  0.02392578,  0.05395508,\n",
            "        0.05541992,  0.09765625, -0.09814453, -0.15429688,  0.08300781,\n",
            "       -0.22851562,  0.19921875,  0.07666016, -0.01696777,  0.0324707 ,\n",
            "       -0.21289062,  0.00109863, -0.07226562,  0.06884766, -0.07275391,\n",
            "       -0.15039062, -0.15527344, -0.09863281,  0.09277344, -0.03369141,\n",
            "       -0.18066406, -0.14355469, -0.09863281,  0.16308594,  0.07324219,\n",
            "       -0.04052734,  0.18359375, -0.09277344, -0.00952148, -0.00445557,\n",
            "       -0.07910156,  0.11474609, -0.06494141,  0.19042969, -0.04345703,\n",
            "       -0.08886719, -0.16308594, -0.02905273, -0.01721191, -0.12353516,\n",
            "       -0.15722656, -0.20703125, -0.05493164,  0.02783203,  0.02355957,\n",
            "       -0.21386719,  0.0859375 ,  0.16503906,  0.02575684,  0.02416992,\n",
            "        0.03686523, -0.10058594,  0.12353516, -0.07324219,  0.11767578,\n",
            "        0.02954102, -0.00909424, -0.2578125 ,  0.04370117, -0.07373047,\n",
            "        0.09863281,  0.16210938, -0.05834961, -0.01306152,  0.00756836,\n",
            "        0.078125  , -0.06103516, -0.15917969, -0.06738281,  0.07714844,\n",
            "        0.1015625 ,  0.16113281, -0.171875  ,  0.04418945,  0.10693359,\n",
            "       -0.24121094,  0.02197266, -0.11865234,  0.20410156, -0.09521484,\n",
            "       -0.24121094, -0.05078125, -0.03833008, -0.02734375, -0.0291748 ,\n",
            "        0.04882812,  0.2421875 ,  0.06591797, -0.06445312, -0.0045166 ,\n",
            "       -0.20996094, -0.0177002 ,  0.12158203,  0.03613281, -0.01165771,\n",
            "       -0.01635742,  0.01086426, -0.08251953,  0.04833984,  0.16992188,\n",
            "        0.06030273,  0.05297852,  0.03564453,  0.05737305,  0.07568359,\n",
            "       -0.05639648,  0.08642578, -0.06591797, -0.08789062, -0.18164062,\n",
            "        0.01269531,  0.16894531, -0.11621094,  0.06396484, -0.14160156,\n",
            "        0.14648438, -0.10986328, -0.16113281, -0.03112793, -0.08886719,\n",
            "       -0.00187683,  0.19726562, -0.015625  ,  0.02709961, -0.19042969,\n",
            "       -0.06933594,  0.18066406, -0.06982422, -0.10986328, -0.11572266,\n",
            "       -0.0703125 , -0.11523438, -0.18847656, -0.04443359,  0.08300781,\n",
            "       -0.13964844,  0.203125  ,  0.03149414, -0.14257812,  0.06933594,\n",
            "        0.07958984, -0.03710938, -0.05053711,  0.10449219,  0.13085938,\n",
            "       -0.03112793, -0.02319336, -0.07763672,  0.16113281, -0.11523438,\n",
            "       -0.07519531,  0.02087402,  0.03027344, -0.13183594, -0.10986328,\n",
            "       -0.02185059, -0.03027344,  0.08251953, -0.02111816, -0.12695312,\n",
            "        0.05371094,  0.01647949,  0.19921875,  0.1640625 ,  0.06445312,\n",
            "       -0.04614258, -0.04443359,  0.03613281, -0.09570312, -0.09228516,\n",
            "       -0.12988281, -0.01855469, -0.13085938,  0.07226562,  0.07128906,\n",
            "        0.12451172, -0.0246582 ,  0.03076172, -0.10253906,  0.04980469,\n",
            "        0.19726562,  0.17773438,  0.29296875,  0.22167969, -0.0090332 ,\n",
            "       -0.06933594, -0.01831055, -0.17675781, -0.02905273, -0.20214844,\n",
            "       -0.02929688, -0.10205078,  0.06225586,  0.06982422,  0.07568359,\n",
            "       -0.0177002 ,  0.06176758, -0.11669922, -0.00308228,  0.00976562,\n",
            "       -0.00482178,  0.12792969, -0.09960938,  0.14160156, -0.18945312,\n",
            "        0.02734375,  0.12890625, -0.06347656,  0.02111816, -0.08251953],\n",
            "      dtype=float32), array([ 6.39648438e-02, -2.55859375e-01, -8.44726562e-02,  1.51367188e-01,\n",
            "       -8.15429688e-02,  3.88183594e-02, -3.63769531e-02, -1.17187500e-01,\n",
            "        4.19921875e-02,  1.59454346e-03, -1.84631348e-03, -7.42187500e-02,\n",
            "        2.53906250e-02,  6.73828125e-02,  4.05273438e-02, -1.86767578e-02,\n",
            "       -1.66015625e-01,  8.69140625e-02, -1.03515625e-01,  1.19140625e-01,\n",
            "        1.69677734e-02, -1.16699219e-01,  4.73632812e-02, -8.25195312e-02,\n",
            "       -3.00781250e-01,  5.61523438e-02, -1.19628906e-01,  1.63574219e-02,\n",
            "        1.34765625e-01,  1.14746094e-01,  1.94091797e-02,  1.40625000e-01,\n",
            "       -2.03125000e-01, -1.22558594e-01,  4.39453125e-02, -1.10351562e-01,\n",
            "        5.83496094e-02, -3.32031250e-02,  1.37695312e-01,  2.51953125e-01,\n",
            "        1.68945312e-01, -2.39257812e-01, -1.33789062e-01,  1.13281250e-01,\n",
            "       -4.37011719e-02,  8.54492188e-02, -4.48608398e-03,  1.89453125e-01,\n",
            "        1.78222656e-02, -3.36914062e-02,  2.85156250e-01,  7.56835938e-03,\n",
            "       -7.17773438e-02, -1.93359375e-01,  1.77001953e-02, -2.34375000e-02,\n",
            "       -5.37109375e-02, -1.03027344e-01,  8.97216797e-03, -1.72851562e-01,\n",
            "       -1.01562500e-01, -9.17968750e-02, -1.25976562e-01, -3.93066406e-02,\n",
            "       -8.10546875e-02,  5.34667969e-02, -5.41992188e-02,  1.04003906e-01,\n",
            "       -1.55029297e-02,  9.21630859e-03,  2.41699219e-02,  1.24511719e-02,\n",
            "        8.74023438e-02, -5.73730469e-02, -2.90527344e-02, -1.26953125e-01,\n",
            "        1.52343750e-01,  1.03027344e-01,  1.40380859e-02, -6.03027344e-02,\n",
            "       -2.61230469e-02, -6.44531250e-02, -3.46679688e-02,  1.57928467e-03,\n",
            "       -3.32031250e-01, -1.17187500e-01, -5.59082031e-02,  7.27539062e-02,\n",
            "        2.20703125e-01,  2.52685547e-02,  2.16796875e-01,  3.41796875e-02,\n",
            "       -2.04101562e-01, -1.27929688e-01, -6.98242188e-02, -2.37304688e-01,\n",
            "        6.39648438e-02,  1.29882812e-01, -2.20947266e-02,  9.22851562e-02,\n",
            "        1.78222656e-02, -1.12792969e-01, -6.68945312e-02,  1.52343750e-01,\n",
            "       -2.05078125e-01, -2.68554688e-02, -7.03125000e-02, -1.60156250e-01,\n",
            "       -3.54003906e-03, -1.78222656e-02,  1.95312500e-01,  1.43554688e-01,\n",
            "        7.12890625e-02,  4.90722656e-02,  1.33789062e-01,  7.17773438e-02,\n",
            "        1.85546875e-02, -3.88183594e-02,  1.89453125e-01,  2.16796875e-01,\n",
            "       -1.33789062e-01,  1.91406250e-01,  1.54113770e-03,  8.74023438e-02,\n",
            "       -7.03125000e-02, -5.51757812e-02,  7.76367188e-02, -3.24707031e-02,\n",
            "       -7.56835938e-02,  8.15429688e-02,  1.98974609e-02, -9.42382812e-02,\n",
            "       -3.07617188e-02, -4.90722656e-02,  2.67333984e-02, -4.37011719e-02,\n",
            "        1.67968750e-01, -1.46484375e-01, -2.17285156e-02,  4.27246094e-02,\n",
            "        9.03320312e-02, -2.36328125e-01,  4.05273438e-02, -2.55126953e-02,\n",
            "        1.89453125e-01, -5.20019531e-02, -1.40625000e-01, -5.02929688e-02,\n",
            "       -2.09960938e-01,  4.83398438e-02, -1.12304688e-01, -1.50390625e-01,\n",
            "       -2.61718750e-01,  1.45263672e-02, -1.01562500e-01,  9.15527344e-03,\n",
            "       -1.06445312e-01,  3.17382812e-02, -1.53320312e-01,  8.59375000e-02,\n",
            "        1.35742188e-01,  1.47460938e-01, -8.39843750e-02,  8.64257812e-02,\n",
            "        8.72802734e-03,  2.29492188e-02,  5.55419922e-03,  8.10546875e-02,\n",
            "        1.23535156e-01,  2.72216797e-02, -2.11914062e-01,  5.39550781e-02,\n",
            "       -3.78417969e-02, -7.66601562e-02, -5.67626953e-03, -1.12304688e-01,\n",
            "       -2.41210938e-01, -5.18798828e-03, -5.59082031e-02, -1.31835938e-01,\n",
            "       -1.96289062e-01, -1.66015625e-02,  4.66308594e-02, -4.24804688e-02,\n",
            "       -9.71679688e-02, -3.83300781e-02, -8.23974609e-03, -5.59082031e-02,\n",
            "        3.85742188e-02,  1.59454346e-03,  3.71093750e-02, -2.06054688e-01,\n",
            "       -1.26953125e-01, -1.67968750e-01, -5.54199219e-02, -1.07910156e-01,\n",
            "       -3.29589844e-02,  1.12792969e-01,  8.97216797e-03, -1.12792969e-01,\n",
            "       -2.04101562e-01,  1.82617188e-01, -1.37695312e-01,  1.56250000e-01,\n",
            "        2.97851562e-02, -1.04003906e-01, -2.92968750e-02, -1.20605469e-01,\n",
            "       -5.00488281e-02,  1.45507812e-01,  1.02539062e-01,  8.64257812e-02,\n",
            "        1.11328125e-01,  2.07031250e-01,  4.76074219e-02,  9.76562500e-02,\n",
            "       -1.50146484e-02,  1.95312500e-01, -1.91406250e-01,  1.18164062e-01,\n",
            "        4.22363281e-02,  2.08740234e-02, -3.07617188e-02, -5.88378906e-02,\n",
            "        2.79296875e-01, -1.13769531e-01,  1.92871094e-02,  8.00781250e-02,\n",
            "        1.09100342e-03,  1.00708008e-02,  7.93457031e-03, -4.12597656e-02,\n",
            "        2.16796875e-01,  5.79833984e-03, -7.71484375e-02, -7.32421875e-02,\n",
            "       -1.51367188e-01, -2.96875000e-01,  7.22656250e-02, -3.11279297e-02,\n",
            "        7.81250000e-02,  5.54199219e-02,  1.16577148e-02, -1.35742188e-01,\n",
            "        9.52148438e-02,  1.50390625e-01,  1.31225586e-02,  2.26562500e-01,\n",
            "       -1.04003906e-01,  5.78613281e-02,  1.21093750e-01,  3.95507812e-02,\n",
            "       -6.83593750e-02,  3.34472656e-02,  1.15356445e-02,  3.39355469e-02,\n",
            "        2.12669373e-04,  6.25000000e-02, -1.35742188e-01,  5.46875000e-02,\n",
            "       -4.44335938e-02,  7.71484375e-02, -2.07031250e-01, -2.33459473e-03,\n",
            "       -8.74023438e-02,  6.64062500e-02, -3.17382812e-02, -8.60595703e-03,\n",
            "       -1.70898438e-01,  9.96093750e-02,  1.49414062e-01,  5.93261719e-02,\n",
            "        1.91406250e-01,  2.81982422e-02,  1.46484375e-01, -6.00585938e-02,\n",
            "       -2.21679688e-01,  3.56445312e-02, -5.92041016e-03,  1.50390625e-01,\n",
            "        9.42382812e-02,  1.77734375e-01,  1.96533203e-02, -4.58984375e-02,\n",
            "       -1.36108398e-02,  1.19628906e-01, -1.11328125e-01, -1.13769531e-01,\n",
            "        1.28906250e-01,  1.62109375e-01,  1.75781250e-02,  9.52148438e-02,\n",
            "        3.93066406e-02,  1.69921875e-01, -1.06445312e-01, -4.90722656e-02,\n",
            "        1.23046875e-01,  2.74658203e-02,  6.49414062e-02,  6.20117188e-02],\n",
            "      dtype=float32), array([ 0.08007812,  0.10498047,  0.04980469,  0.0534668 , -0.06738281,\n",
            "       -0.12060547,  0.03515625, -0.11865234,  0.04394531,  0.03015137,\n",
            "       -0.05688477, -0.07617188,  0.01287842,  0.04980469, -0.08496094,\n",
            "       -0.06347656,  0.00628662, -0.04321289,  0.02026367,  0.01330566,\n",
            "       -0.01953125,  0.09277344, -0.171875  , -0.00131989,  0.06542969,\n",
            "        0.05834961, -0.08251953,  0.0859375 , -0.00318909,  0.05859375,\n",
            "       -0.03491211, -0.0123291 , -0.0480957 , -0.00302124,  0.05639648,\n",
            "        0.01495361, -0.07226562, -0.05224609,  0.09667969,  0.04296875,\n",
            "       -0.03540039, -0.07324219,  0.03271484, -0.06176758,  0.00787354,\n",
            "        0.0035553 , -0.00878906,  0.0390625 ,  0.03833008,  0.04443359,\n",
            "        0.06982422,  0.01263428, -0.00445557, -0.03320312, -0.04272461,\n",
            "        0.09765625, -0.02160645, -0.0378418 ,  0.01190186, -0.01391602,\n",
            "       -0.11328125,  0.09326172, -0.03930664, -0.11621094,  0.02331543,\n",
            "       -0.01599121,  0.02636719,  0.10742188, -0.00466919,  0.09619141,\n",
            "        0.0279541 , -0.05395508,  0.08544922, -0.03686523, -0.02026367,\n",
            "       -0.08544922,  0.125     ,  0.14453125,  0.0267334 ,  0.15039062,\n",
            "        0.05273438, -0.18652344,  0.08154297, -0.01062012, -0.03735352,\n",
            "       -0.07324219, -0.07519531,  0.03613281, -0.13183594,  0.00616455,\n",
            "        0.05078125,  0.04516602,  0.0100708 , -0.15039062, -0.06005859,\n",
            "        0.05761719, -0.00692749,  0.01586914, -0.0213623 ,  0.10351562,\n",
            "       -0.00029182, -0.046875  , -0.01635742, -0.07861328, -0.06933594,\n",
            "        0.01635742, -0.03149414, -0.01373291, -0.03662109, -0.08886719,\n",
            "       -0.0480957 , -0.01318359, -0.07177734,  0.00588989, -0.04614258,\n",
            "        0.03979492,  0.10058594, -0.04931641,  0.07568359,  0.03881836,\n",
            "       -0.16699219, -0.09619141, -0.10107422,  0.02905273, -0.05786133,\n",
            "       -0.01928711, -0.04296875, -0.08398438, -0.01989746,  0.05151367,\n",
            "        0.00848389, -0.03613281, -0.14941406, -0.01855469, -0.03637695,\n",
            "       -0.07666016, -0.03955078, -0.06152344, -0.02001953,  0.04150391,\n",
            "        0.03686523, -0.07226562,  0.00592041, -0.06298828,  0.00738525,\n",
            "       -0.01586914,  0.01611328, -0.01452637,  0.00772095,  0.10107422,\n",
            "       -0.00558472,  0.01428223, -0.07617188,  0.05639648, -0.01293945,\n",
            "        0.03063965, -0.02490234, -0.09863281,  0.0324707 , -0.02807617,\n",
            "       -0.08105469,  0.02062988,  0.01611328, -0.04199219, -0.03491211,\n",
            "       -0.03759766,  0.05493164,  0.01373291,  0.02685547, -0.05859375,\n",
            "       -0.07177734, -0.12011719, -0.02282715, -0.1640625 , -0.00361633,\n",
            "       -0.05981445,  0.07080078, -0.07714844,  0.05175781, -0.04296875,\n",
            "       -0.04833984,  0.0300293 , -0.06591797, -0.03173828, -0.04882812,\n",
            "       -0.03491211,  0.05883789, -0.01464844,  0.18066406,  0.05688477,\n",
            "        0.05249023,  0.05786133,  0.11669922,  0.05200195, -0.0534668 ,\n",
            "        0.01867676, -0.015625  ,  0.00576782, -0.07324219, -0.11621094,\n",
            "        0.04052734,  0.0625    , -0.04321289,  0.01055908,  0.02172852,\n",
            "        0.04248047,  0.03271484,  0.04418945,  0.05761719,  0.02612305,\n",
            "       -0.01831055, -0.02697754, -0.00674438,  0.00509644, -0.11621094,\n",
            "        0.00364685,  0.05761719, -0.05957031, -0.08837891,  0.0135498 ,\n",
            "        0.04541016, -0.04638672, -0.0177002 , -0.0625    ,  0.03442383,\n",
            "       -0.02416992,  0.03088379,  0.09570312,  0.07958984,  0.03930664,\n",
            "        0.0279541 , -0.0859375 ,  0.08105469,  0.06640625, -0.00041962,\n",
            "       -0.06933594,  0.03588867, -0.03417969,  0.04492188, -0.00772095,\n",
            "       -0.00741577, -0.04760742,  0.01397705, -0.09960938,  0.0246582 ,\n",
            "       -0.09960938,  0.11474609,  0.03173828,  0.02209473,  0.07226562,\n",
            "        0.03686523,  0.02563477,  0.01367188, -0.02734375,  0.00592041,\n",
            "       -0.06738281,  0.05053711, -0.02832031, -0.04516602, -0.01733398,\n",
            "        0.02111816,  0.03515625, -0.04296875,  0.06640625,  0.12207031,\n",
            "        0.12353516,  0.0039978 ,  0.04516602, -0.01855469,  0.04833984,\n",
            "        0.04516602,  0.08691406,  0.02941895,  0.03759766,  0.03442383,\n",
            "       -0.07373047, -0.0402832 , -0.14648438, -0.02441406, -0.01953125,\n",
            "        0.0065918 , -0.0018158 , -0.01092529,  0.09326172,  0.06542969,\n",
            "        0.01843262, -0.09326172, -0.01574707, -0.07128906, -0.08935547,\n",
            "       -0.07128906, -0.03015137, -0.01300049,  0.01635742, -0.01831055,\n",
            "        0.01483154,  0.00500488,  0.00366211,  0.04760742, -0.06884766],\n",
            "      dtype=float32), array([ 0.17089844, -0.01208496,  0.03613281,  0.17285156, -0.09814453,\n",
            "       -0.08789062,  0.07910156,  0.01031494,  0.01287842,  0.05834961,\n",
            "       -0.10546875,  0.04443359, -0.02453613,  0.11914062, -0.30859375,\n",
            "       -0.01623535, -0.13867188,  0.11083984,  0.02990723, -0.10742188,\n",
            "       -0.16113281,  0.00564575, -0.18261719, -0.078125  ,  0.10400391,\n",
            "        0.12304688, -0.01495361,  0.04516602,  0.04467773, -0.05322266,\n",
            "       -0.2578125 , -0.25      ,  0.04638672,  0.16308594,  0.13183594,\n",
            "       -0.00842285, -0.14648438, -0.125     , -0.14257812,  0.13574219,\n",
            "        0.28320312,  0.0010376 ,  0.06982422, -0.06298828, -0.08740234,\n",
            "        0.01379395, -0.03442383,  0.28710938,  0.07080078,  0.09667969,\n",
            "        0.13085938,  0.03320312, -0.05322266, -0.05175781, -0.06005859,\n",
            "       -0.14941406, -0.02685547,  0.10498047,  0.03637695,  0.05078125,\n",
            "       -0.05029297,  0.20117188, -0.10351562, -0.18261719,  0.12695312,\n",
            "        0.02661133, -0.02258301,  0.10888672,  0.10595703,  0.04638672,\n",
            "       -0.0456543 , -0.09033203,  0.25585938,  0.08447266, -0.22167969,\n",
            "        0.06445312,  0.06835938,  0.0534668 ,  0.01281738,  0.21972656,\n",
            "        0.08447266,  0.08007812, -0.10888672,  0.16699219, -0.2265625 ,\n",
            "       -0.15722656, -0.02819824,  0.09423828, -0.19140625,  0.18164062,\n",
            "       -0.10693359, -0.03173828, -0.0625    , -0.08203125, -0.11816406,\n",
            "       -0.06152344, -0.10498047,  0.07763672, -0.25585938,  0.13671875,\n",
            "        0.06347656, -0.16210938,  0.06298828, -0.06445312, -0.08544922,\n",
            "       -0.07177734, -0.02258301, -0.07275391,  0.12158203, -0.04199219,\n",
            "       -0.07275391,  0.04418945, -0.05981445,  0.14648438,  0.08496094,\n",
            "        0.09179688,  0.11621094, -0.06347656,  0.11816406,  0.13964844,\n",
            "       -0.07177734, -0.05541992, -0.10205078,  0.09423828, -0.03759766,\n",
            "       -0.19628906,  0.11425781, -0.02160645, -0.04174805,  0.21582031,\n",
            "       -0.11279297, -0.08056641, -0.25      ,  0.02770996,  0.07958984,\n",
            "       -0.35742188,  0.00939941, -0.00933838, -0.00564575,  0.09765625,\n",
            "        0.06494141,  0.08691406, -0.01434326, -0.07666016,  0.1328125 ,\n",
            "        0.1484375 , -0.15625   , -0.11279297,  0.08300781, -0.05200195,\n",
            "       -0.01080322,  0.09130859, -0.25976562, -0.0177002 , -0.06396484,\n",
            "        0.11474609, -0.09521484, -0.00772095,  0.10107422, -0.19335938,\n",
            "        0.03222656,  0.02978516,  0.02624512, -0.02087402,  0.02429199,\n",
            "        0.02429199,  0.06591797, -0.04443359, -0.16113281,  0.10498047,\n",
            "       -0.171875  , -0.22949219, -0.01385498,  0.07910156, -0.32226562,\n",
            "        0.12451172,  0.11669922, -0.12207031,  0.06494141, -0.04125977,\n",
            "       -0.10351562,  0.0559082 , -0.11621094, -0.01013184,  0.09912109,\n",
            "        0.03710938,  0.02575684,  0.04052734,  0.09960938, -0.01300049,\n",
            "        0.05175781,  0.0168457 , -0.02209473,  0.11279297,  0.17382812,\n",
            "        0.01025391,  0.02807617,  0.01092529, -0.265625  , -0.06298828,\n",
            "        0.08544922,  0.14941406,  0.19042969,  0.03442383, -0.10302734,\n",
            "        0.05200195, -0.03613281, -0.00561523,  0.06982422,  0.09375   ,\n",
            "       -0.02709961,  0.07666016,  0.06982422, -0.02966309, -0.05273438,\n",
            "       -0.22167969,  0.10644531, -0.08496094, -0.16503906, -0.17089844,\n",
            "       -0.07763672,  0.13085938,  0.06225586, -0.171875  ,  0.14648438,\n",
            "       -0.03076172,  0.08251953,  0.0456543 ,  0.01361084,  0.25976562,\n",
            "       -0.09375   , -0.125     ,  0.15234375,  0.11865234,  0.00915527,\n",
            "       -0.10449219,  0.04394531, -0.0168457 ,  0.01202393,  0.2890625 ,\n",
            "       -0.00067139, -0.13378906,  0.00296021,  0.03173828, -0.08300781,\n",
            "       -0.10595703, -0.01147461,  0.1328125 , -0.03417969,  0.08154297,\n",
            "       -0.07568359,  0.08496094,  0.00521851, -0.16796875,  0.09570312,\n",
            "       -0.12890625, -0.04467773, -0.10205078,  0.12597656, -0.15625   ,\n",
            "        0.06445312, -0.0612793 , -0.06005859, -0.03540039,  0.10351562,\n",
            "       -0.03100586,  0.01989746, -0.0859375 , -0.09277344,  0.05419922,\n",
            "        0.07617188,  0.06738281,  0.19921875, -0.14746094, -0.05786133,\n",
            "       -0.12109375, -0.19433594, -0.09375   , -0.06738281, -0.23046875,\n",
            "       -0.10498047,  0.11621094, -0.0559082 ,  0.07666016,  0.13476562,\n",
            "       -0.078125  , -0.16015625, -0.03369141,  0.00531006,  0.05566406,\n",
            "        0.08496094,  0.1953125 , -0.11376953, -0.03344727,  0.03076172,\n",
            "        0.00136566, -0.09375   , -0.19726562, -0.01031494, -0.0255127 ],\n",
            "      dtype=float32), array([ 2.34375000e-02, -1.40625000e-01,  1.61132812e-01,  2.17773438e-01,\n",
            "       -1.00585938e-01,  8.20312500e-02,  1.29882812e-01,  4.58984375e-02,\n",
            "        4.34570312e-02,  3.36914062e-02, -1.56250000e-01, -1.25000000e-01,\n",
            "       -1.00585938e-01, -1.05957031e-01, -4.63867188e-03,  4.27246094e-02,\n",
            "        7.69042969e-03,  1.06445312e-01,  7.42187500e-02, -1.15234375e-01,\n",
            "       -1.41601562e-01, -1.17675781e-01, -1.56250000e-01, -8.44726562e-02,\n",
            "       -5.49316406e-02,  4.24804688e-02, -1.58203125e-01,  8.59375000e-02,\n",
            "        6.12792969e-02,  7.42187500e-02,  5.44433594e-02, -1.01074219e-01,\n",
            "       -1.32812500e-01, -1.11328125e-01, -1.94335938e-01,  2.51464844e-02,\n",
            "       -4.32128906e-02, -4.41894531e-02, -6.22558594e-02, -6.25000000e-02,\n",
            "        3.56445312e-02, -7.51953125e-02,  1.38671875e-01, -1.05957031e-01,\n",
            "        9.91210938e-02,  4.41894531e-02,  5.32226562e-02,  6.10351562e-02,\n",
            "        3.06396484e-02, -1.57470703e-02, -5.46875000e-02,  1.78710938e-01,\n",
            "        3.56445312e-02,  1.04003906e-01, -3.44238281e-02,  6.20117188e-02,\n",
            "        6.49414062e-02, -5.10253906e-02,  1.23535156e-01,  2.69775391e-02,\n",
            "        1.92260742e-03,  3.56445312e-02, -5.34667969e-02, -5.76171875e-02,\n",
            "       -8.10546875e-02, -5.24902344e-02, -5.22460938e-02,  8.49609375e-02,\n",
            "       -1.25976562e-01,  5.78613281e-02,  8.00781250e-02,  5.39550781e-02,\n",
            "       -2.45361328e-02,  8.88671875e-02, -1.76757812e-01, -1.95312500e-01,\n",
            "        5.95703125e-02,  7.22656250e-02,  5.12695312e-02,  5.54199219e-02,\n",
            "       -1.03515625e-01, -1.02050781e-01, -5.34667969e-02,  1.91406250e-01,\n",
            "       -5.63964844e-02, -2.95410156e-02,  4.83398438e-02,  1.27563477e-02,\n",
            "       -1.44042969e-02,  1.03515625e-01,  3.46679688e-02,  1.17187500e-01,\n",
            "       -5.78613281e-02, -2.08007812e-01,  1.50390625e-01, -1.09863281e-01,\n",
            "        2.39257812e-01,  2.17285156e-02, -5.73730469e-02,  1.02050781e-01,\n",
            "        9.61914062e-02, -1.11816406e-01, -4.56542969e-02,  1.18652344e-01,\n",
            "       -2.04101562e-01, -1.01562500e-01,  1.04980469e-02,  9.46044922e-03,\n",
            "        6.44531250e-02, -4.73632812e-02, -4.83398438e-02, -9.66796875e-02,\n",
            "       -1.27563477e-02, -2.02636719e-02,  3.10058594e-02,  1.23535156e-01,\n",
            "        2.62451172e-02,  1.80664062e-02,  1.26953125e-01,  7.66601562e-02,\n",
            "       -6.54296875e-02,  4.83398438e-02, -7.44628906e-03,  7.08007812e-02,\n",
            "       -1.81884766e-02,  5.76171875e-02,  1.98974609e-02,  1.09863281e-01,\n",
            "        6.98242188e-02,  5.93261719e-02, -5.78613281e-02, -9.17968750e-02,\n",
            "       -5.29785156e-02,  1.43554688e-01,  7.91015625e-02, -1.50390625e-01,\n",
            "       -1.30859375e-01, -1.30859375e-01,  6.00585938e-02,  6.78710938e-02,\n",
            "        1.76757812e-01, -1.30859375e-01,  1.28746033e-04,  9.61914062e-02,\n",
            "        3.18359375e-01, -4.49218750e-02, -1.00097656e-01, -1.78710938e-01,\n",
            "       -1.11328125e-01,  1.38671875e-01,  1.56250000e-01, -8.59375000e-02,\n",
            "       -7.47070312e-02, -3.06396484e-02, -9.96093750e-02, -4.68750000e-02,\n",
            "       -1.01074219e-01,  4.63867188e-02, -1.09375000e-01,  6.64062500e-02,\n",
            "        1.00585938e-01,  1.66015625e-01, -1.11816406e-01,  3.04687500e-01,\n",
            "       -6.03027344e-02,  1.96533203e-02,  9.82666016e-03, -1.30004883e-02,\n",
            "       -2.52685547e-02,  1.50146484e-02, -2.55859375e-01, -1.86523438e-01,\n",
            "       -4.17480469e-02, -1.79687500e-01, -1.43554688e-01, -6.29882812e-02,\n",
            "       -1.18408203e-02, -8.97216797e-03, -6.88476562e-02,  9.21630859e-03,\n",
            "       -1.40991211e-02, -2.91748047e-02, -1.16699219e-01,  3.54003906e-03,\n",
            "       -4.51660156e-03, -2.09045410e-03, -1.10351562e-01,  2.33154297e-02,\n",
            "        1.73828125e-01,  1.06445312e-01,  1.08398438e-01, -6.25000000e-02,\n",
            "       -1.90429688e-01, -3.83300781e-02, -7.12890625e-02, -2.25830078e-02,\n",
            "       -6.98242188e-02,  2.23388672e-02,  7.56835938e-02, -2.13867188e-01,\n",
            "       -4.10156250e-02, -2.39257812e-02, -6.29882812e-02,  1.27929688e-01,\n",
            "       -5.29785156e-02,  3.54003906e-02, -2.60009766e-02, -1.00585938e-01,\n",
            "        4.27246094e-03, -3.36914062e-02, -3.75366211e-03, -7.47070312e-02,\n",
            "       -1.82617188e-01,  1.88476562e-01, -1.07910156e-01,  1.00097656e-01,\n",
            "        1.01928711e-02, -2.02636719e-02, -1.64062500e-01, -5.22460938e-02,\n",
            "       -1.68457031e-02,  6.10351562e-03,  2.31933594e-02, -1.50390625e-01,\n",
            "        9.42382812e-02,  1.11816406e-01,  1.25976562e-01,  1.25976562e-01,\n",
            "        4.39453125e-02,  7.03125000e-02,  6.17675781e-02,  2.31933594e-02,\n",
            "        6.29882812e-02, -5.58471680e-03,  7.95898438e-02, -9.66796875e-02,\n",
            "        1.96289062e-01,  4.07714844e-02,  3.78417969e-02,  2.08740234e-02,\n",
            "        7.12890625e-02,  3.41796875e-03,  9.76562500e-02,  3.54003906e-02,\n",
            "        4.24804688e-02,  2.51464844e-02, -6.49414062e-02,  1.82617188e-01,\n",
            "       -8.25195312e-02, -1.10839844e-01,  1.55273438e-01, -9.42382812e-02,\n",
            "        3.24707031e-02, -3.19824219e-02,  3.78417969e-02, -1.10351562e-01,\n",
            "        8.64257812e-02,  1.06445312e-01, -6.01196289e-03,  3.49121094e-02,\n",
            "       -8.44726562e-02,  1.06933594e-01, -1.62109375e-01,  1.41601562e-02,\n",
            "        3.07617188e-02,  6.98242188e-02,  3.29589844e-02,  9.76562500e-02,\n",
            "        5.81054688e-02, -7.47070312e-02,  7.51953125e-02,  1.31835938e-01,\n",
            "        8.78906250e-02,  6.34765625e-02,  3.34167480e-03, -7.17773438e-02,\n",
            "       -9.71679688e-02, -9.86328125e-02, -3.36914062e-02,  7.32421875e-02,\n",
            "       -2.39257812e-02,  2.34375000e-02,  9.13085938e-02,  8.44726562e-02,\n",
            "       -4.49218750e-02,  6.59179688e-02,  5.32226562e-02,  2.53906250e-02,\n",
            "        2.38037109e-02,  6.86645508e-03, -7.47070312e-02,  2.44140625e-01,\n",
            "        4.46777344e-02,  5.76171875e-02,  5.20019531e-02,  2.79541016e-02,\n",
            "        3.64685059e-03, -1.56250000e-01, -2.09045410e-03,  7.95898438e-02],\n",
            "      dtype=float32), array([ 0.06445312,  0.03613281,  0.03857422,  0.09472656, -0.1875    ,\n",
            "       -0.06787109, -0.01879883, -0.02685547, -0.05688477,  0.09716797,\n",
            "       -0.00430298, -0.125     , -0.12890625,  0.06591797, -0.23242188,\n",
            "       -0.01000977,  0.04248047,  0.03088379,  0.03466797, -0.00509644,\n",
            "       -0.04492188, -0.16992188,  0.04516602, -0.12792969,  0.10107422,\n",
            "       -0.03173828, -0.03417969, -0.10400391, -0.00860596, -0.14941406,\n",
            "       -0.08300781,  0.12890625, -0.14648438, -0.1484375 , -0.01190186,\n",
            "       -0.00765991,  0.09619141, -0.05004883,  0.07714844,  0.05957031,\n",
            "        0.12988281, -0.03063965,  0.21289062, -0.07714844,  0.00891113,\n",
            "        0.02246094,  0.07763672,  0.12207031,  0.01928711,  0.13769531,\n",
            "        0.09228516,  0.11279297, -0.04785156,  0.03088379, -0.05639648,\n",
            "       -0.03637695, -0.00842285,  0.02978516, -0.01904297, -0.02990723,\n",
            "        0.04272461,  0.1484375 , -0.16113281, -0.07958984, -0.05834961,\n",
            "       -0.10058594, -0.06054688,  0.21191406, -0.02832031,  0.01068115,\n",
            "       -0.01385498,  0.140625  , -0.00439453, -0.12304688, -0.19042969,\n",
            "       -0.08251953,  0.13964844,  0.16796875,  0.05859375,  0.07373047,\n",
            "       -0.10839844, -0.10791016, -0.00151062,  0.04638672, -0.15332031,\n",
            "       -0.09570312, -0.06884766,  0.03808594, -0.08984375,  0.07958984,\n",
            "       -0.1015625 ,  0.05029297, -0.11816406, -0.13183594,  0.0859375 ,\n",
            "       -0.02905273, -0.02832031,  0.07324219, -0.01660156, -0.13671875,\n",
            "        0.0546875 , -0.16601562, -0.02514648,  0.12695312, -0.10058594,\n",
            "       -0.03833008, -0.05639648, -0.17773438,  0.21875   , -0.11669922,\n",
            "       -0.09423828,  0.03442383, -0.05444336,  0.05810547,  0.0011673 ,\n",
            "        0.00680542,  0.2109375 , -0.13378906, -0.00318909, -0.05322266,\n",
            "       -0.14160156, -0.12402344, -0.01123047, -0.04174805, -0.09765625,\n",
            "       -0.04296875, -0.13183594, -0.17480469,  0.02648926,  0.01928711,\n",
            "       -0.05688477, -0.17089844, -0.17773438, -0.11425781, -0.16796875,\n",
            "       -0.05273438,  0.04541016, -0.00958252, -0.0291748 ,  0.05786133,\n",
            "       -0.02172852, -0.16210938,  0.15429688, -0.08447266,  0.07666016,\n",
            "        0.0534668 , -0.08007812, -0.2109375 , -0.08496094,  0.03271484,\n",
            "        0.01318359,  0.11865234, -0.30859375, -0.04589844,  0.03295898,\n",
            "        0.08349609, -0.17480469, -0.04174805, -0.07226562,  0.20996094,\n",
            "       -0.00671387,  0.14355469, -0.08105469,  0.16308594, -0.00123596,\n",
            "       -0.19042969, -0.05249023,  0.03491211,  0.09765625, -0.05810547,\n",
            "       -0.25585938, -0.10888672, -0.09082031, -0.06298828,  0.04101562,\n",
            "        0.01116943,  0.13671875, -0.00097656, -0.06030273,  0.01928711,\n",
            "       -0.07617188,  0.06152344,  0.08789062, -0.07666016,  0.11083984,\n",
            "       -0.21972656, -0.08935547,  0.12890625,  0.15332031,  0.05419922,\n",
            "        0.02197266,  0.05932617, -0.01416016, -0.02075195, -0.00570679,\n",
            "       -0.01300049, -0.00110626,  0.05175781, -0.10351562, -0.12158203,\n",
            "        0.08300781,  0.01794434,  0.078125  , -0.03979492,  0.10302734,\n",
            "        0.06689453, -0.0534668 , -0.08300781,  0.03759766, -0.04174805,\n",
            "        0.0625    , -0.01953125, -0.0402832 ,  0.05224609, -0.18457031,\n",
            "       -0.09375   ,  0.22460938,  0.01141357, -0.17285156,  0.02246094,\n",
            "       -0.09423828, -0.02539062, -0.04858398, -0.10595703,  0.06494141,\n",
            "       -0.06494141,  0.15917969,  0.078125  , -0.10498047, -0.06689453,\n",
            "        0.03808594, -0.11621094,  0.06005859,  0.06982422,  0.18652344,\n",
            "       -0.09033203, -0.07666016, -0.04663086,  0.12695312, -0.10009766,\n",
            "       -0.07958984,  0.00970459,  0.00421143, -0.03112793, -0.00564575,\n",
            "       -0.00312805,  0.02880859,  0.16992188, -0.0625    ,  0.02905273,\n",
            "        0.09375   , -0.0559082 ,  0.06347656, -0.03369141, -0.04394531,\n",
            "       -0.04614258,  0.02685547, -0.01599121,  0.02172852, -0.12158203,\n",
            "       -0.0098877 , -0.05786133, -0.21484375,  0.20117188,  0.06152344,\n",
            "        0.11035156, -0.12597656,  0.08544922,  0.00445557,  0.06176758,\n",
            "        0.19238281,  0.21191406,  0.17578125,  0.3515625 ,  0.00656128,\n",
            "       -0.00411987, -0.04516602, -0.12011719, -0.10986328,  0.01660156,\n",
            "        0.02392578, -0.12060547,  0.11621094,  0.01043701, -0.078125  ,\n",
            "       -0.04663086,  0.08007812,  0.01635742,  0.01794434,  0.10058594,\n",
            "       -0.01147461,  0.01245117, -0.11865234, -0.06640625,  0.02038574,\n",
            "        0.06054688, -0.05322266, -0.16308594,  0.12890625, -0.06030273],\n",
            "      dtype=float32), array([ 9.37500000e-02, -9.32617188e-02,  5.44433594e-02,  2.01416016e-03,\n",
            "        3.82995605e-03,  6.73828125e-02,  1.80664062e-02, -1.89453125e-01,\n",
            "        1.43554688e-01,  2.17285156e-02, -1.26953125e-02, -1.21582031e-01,\n",
            "       -5.93261719e-02,  6.68945312e-02, -1.19628906e-01,  3.46679688e-02,\n",
            "        1.33789062e-01, -4.22363281e-02,  2.25830078e-03, -3.93066406e-02,\n",
            "       -6.49414062e-02,  2.31933594e-02, -1.38671875e-01, -2.13623047e-02,\n",
            "        2.85644531e-02, -4.85839844e-02, -1.78710938e-01,  1.52343750e-01,\n",
            "        2.19726562e-02,  5.10253906e-02, -7.81250000e-02,  1.56250000e-02,\n",
            "        4.34570312e-02,  2.97851562e-02,  2.78320312e-02, -8.98437500e-02,\n",
            "       -5.56640625e-02, -2.34375000e-02, -6.44531250e-02, -1.37939453e-02,\n",
            "        1.92382812e-01,  5.79833984e-03,  1.21093750e-01, -4.91333008e-03,\n",
            "        1.21093750e-01,  3.00292969e-02,  5.51757812e-02, -3.80859375e-02,\n",
            "       -1.92871094e-02, -5.98144531e-02, -3.67736816e-03, -2.62451172e-02,\n",
            "       -1.72119141e-02,  2.23388672e-02, -6.00585938e-02, -5.79833984e-03,\n",
            "       -6.88476562e-02, -7.03125000e-02,  8.10546875e-02, -4.46777344e-02,\n",
            "        3.83300781e-02,  1.50390625e-01,  2.88085938e-02, -2.01171875e-01,\n",
            "       -5.56640625e-02, -3.83300781e-02, -6.29882812e-02,  1.16699219e-01,\n",
            "       -7.08007812e-02,  1.31835938e-01, -4.37011719e-02,  8.34960938e-02,\n",
            "        4.41894531e-02, -2.12097168e-03, -1.06445312e-01, -3.18908691e-03,\n",
            "        4.95605469e-02,  8.30078125e-02,  2.92968750e-02,  3.93066406e-02,\n",
            "        5.73730469e-02, -1.32812500e-01,  5.46875000e-02,  7.56835938e-02,\n",
            "       -2.38281250e-01, -1.23535156e-01, -2.01416016e-02,  1.10839844e-01,\n",
            "       -8.97216797e-03, -1.15722656e-01, -2.79541016e-02,  6.39648438e-02,\n",
            "       -1.79687500e-01, -4.98046875e-02, -8.42285156e-03, -1.12792969e-01,\n",
            "       -3.56445312e-02, -2.09045410e-03, -1.69921875e-01,  2.08007812e-01,\n",
            "        6.05468750e-02, -4.61425781e-02,  6.86645508e-03, -4.88281250e-02,\n",
            "       -1.00097656e-01, -7.14111328e-03, -3.71093750e-02, -1.42822266e-02,\n",
            "        1.69677734e-02, -6.25000000e-02,  4.98046875e-02,  5.00488281e-02,\n",
            "       -1.19140625e-01,  7.17773438e-02,  4.95605469e-02,  6.29882812e-02,\n",
            "        8.98437500e-02, -1.28906250e-01,  1.27929688e-01,  1.30859375e-01,\n",
            "       -1.14746094e-01,  6.07910156e-02, -2.24609375e-02,  1.57226562e-01,\n",
            "       -1.87500000e-01, -3.41796875e-02,  2.29492188e-02, -9.47265625e-02,\n",
            "       -7.44628906e-03,  3.68652344e-02,  3.41796875e-02, -5.78613281e-02,\n",
            "       -1.64794922e-02, -1.25976562e-01, -4.68750000e-02, -1.58203125e-01,\n",
            "       -6.03027344e-02, -8.85009766e-04,  4.39453125e-02, -1.77001953e-02,\n",
            "       -2.08740234e-02, -2.21679688e-01,  8.20312500e-02, -3.41796875e-02,\n",
            "        9.37500000e-02, -6.73828125e-02, -1.29882812e-01, -8.10546875e-02,\n",
            "       -8.36181641e-03,  2.25830078e-02,  1.05590820e-02,  4.34570312e-02,\n",
            "       -8.49609375e-02, -8.85009766e-03, -2.58789062e-02,  8.25195312e-02,\n",
            "       -3.49121094e-02, -8.69140625e-02, -1.29882812e-01, -5.24902344e-02,\n",
            "       -6.25000000e-02,  6.93359375e-02,  1.04492188e-01, -9.32617188e-02,\n",
            "        1.63574219e-02, -5.05371094e-02,  6.73828125e-02,  1.04492188e-01,\n",
            "       -6.54296875e-02, -9.96093750e-02, -9.37500000e-02, -5.79833984e-03,\n",
            "        8.30078125e-02, -1.07421875e-01,  2.44140625e-02,  8.05664062e-03,\n",
            "       -9.94873047e-03, -1.29882812e-01, -5.02929688e-02, -5.51757812e-02,\n",
            "       -2.25830078e-02, -1.21582031e-01, -1.67236328e-02,  8.05664062e-02,\n",
            "       -1.27929688e-01,  9.27734375e-02, -5.56640625e-02, -2.23159790e-04,\n",
            "       -5.03540039e-03,  4.88281250e-02, -4.19921875e-02, -6.78710938e-02,\n",
            "        2.08740234e-02,  1.81884766e-02, -3.38745117e-03,  8.17871094e-03,\n",
            "       -2.85644531e-02, -1.57470703e-02, -2.08984375e-01, -1.71875000e-01,\n",
            "        7.81250000e-02,  8.74023438e-02,  1.08886719e-01,  1.19140625e-01,\n",
            "        3.61328125e-02, -3.36914062e-02, -4.27246094e-02,  4.63867188e-02,\n",
            "       -2.30407715e-03,  8.72802734e-03, -8.88671875e-02,  9.32617188e-02,\n",
            "        1.58691406e-02,  9.57031250e-02, -1.02050781e-01,  1.39648438e-01,\n",
            "        4.66308594e-02, -8.69140625e-02, -1.24023438e-01,  2.78320312e-02,\n",
            "       -2.63671875e-02,  1.38671875e-01, -5.27343750e-02, -6.73828125e-02,\n",
            "        1.08398438e-01,  2.55126953e-02,  1.10839844e-01,  4.58984375e-02,\n",
            "        3.93066406e-02,  2.64892578e-02,  8.42285156e-03, -8.15429688e-02,\n",
            "        2.22656250e-01,  9.81445312e-02,  3.54003906e-03, -1.28173828e-03,\n",
            "        2.08740234e-02, -8.05664062e-02, -3.97949219e-02,  7.27539062e-02,\n",
            "        3.29589844e-02,  2.35595703e-02,  5.32226562e-02, -2.19726562e-01,\n",
            "        4.00390625e-02,  1.40991211e-02,  1.48925781e-02,  9.57031250e-02,\n",
            "       -6.93359375e-02, -2.31933594e-02,  3.29589844e-02, -1.50390625e-01,\n",
            "        1.59179688e-01,  1.68457031e-02,  1.45507812e-01,  1.53808594e-02,\n",
            "        1.30859375e-01,  5.22460938e-02, -8.20312500e-02, -1.34765625e-01,\n",
            "       -3.38745117e-03,  1.73950195e-03, -1.27929688e-01,  1.44042969e-02,\n",
            "        3.12500000e-02, -4.69970703e-03,  2.03857422e-02,  2.84423828e-02,\n",
            "       -6.49414062e-02, -7.26318359e-03,  1.41601562e-01, -4.90722656e-02,\n",
            "        1.30859375e-01,  7.22656250e-02,  3.88183594e-02, -1.66992188e-01,\n",
            "       -1.47460938e-01, -1.57226562e-01, -5.49316406e-02, -1.57470703e-02,\n",
            "        7.12890625e-02, -2.90527344e-02,  1.08398438e-01,  4.90722656e-02,\n",
            "       -6.03027344e-02, -4.02832031e-02, -1.28906250e-01, -9.76562500e-02,\n",
            "       -1.13281250e-01,  9.71679688e-02, -4.17480469e-02, -4.66308594e-02,\n",
            "        7.44628906e-03, -7.32421875e-02,  2.17285156e-02,  1.42578125e-01,\n",
            "       -6.78710938e-02, -9.27734375e-02, -2.45361328e-02, -8.49609375e-02],\n",
            "      dtype=float32), array([ 0.12304688,  0.01281738,  0.01940918,  0.23046875, -0.17382812,\n",
            "        0.02636719,  0.14941406, -0.04956055,  0.02978516, -0.0402832 ,\n",
            "       -0.16894531, -0.10449219, -0.06347656,  0.06982422, -0.20410156,\n",
            "        0.2890625 ,  0.13574219,  0.1484375 ,  0.10400391, -0.17578125,\n",
            "       -0.17089844, -0.02258301,  0.10205078,  0.04833984,  0.05151367,\n",
            "       -0.00650024, -0.00540161,  0.0037384 , -0.06225586, -0.05078125,\n",
            "       -0.04052734,  0.15625   ,  0.01599121, -0.18847656,  0.00040436,\n",
            "        0.01287842,  0.08935547,  0.07861328,  0.07177734,  0.12695312,\n",
            "        0.13085938,  0.06982422,  0.2265625 , -0.03710938, -0.07763672,\n",
            "       -0.01171875, -0.05078125, -0.125     , -0.04589844, -0.07470703,\n",
            "       -0.12695312,  0.16308594, -0.01556396, -0.05249023,  0.02978516,\n",
            "        0.02819824, -0.10888672, -0.04760742,  0.05249023, -0.02038574,\n",
            "        0.10205078,  0.04736328, -0.19238281, -0.10253906,  0.08496094,\n",
            "       -0.09228516, -0.16796875,  0.15429688, -0.05322266, -0.05078125,\n",
            "        0.19824219,  0.18359375,  0.08789062,  0.01672363, -0.3828125 ,\n",
            "       -0.171875  , -0.01519775,  0.09179688,  0.03637695,  0.11230469,\n",
            "       -0.11425781, -0.03051758,  0.04296875,  0.06445312, -0.10546875,\n",
            "       -0.11279297, -0.06347656,  0.16796875,  0.02392578,  0.05395508,\n",
            "        0.05541992,  0.09765625, -0.09814453, -0.15429688,  0.08300781,\n",
            "       -0.22851562,  0.19921875,  0.07666016, -0.01696777,  0.0324707 ,\n",
            "       -0.21289062,  0.00109863, -0.07226562,  0.06884766, -0.07275391,\n",
            "       -0.15039062, -0.15527344, -0.09863281,  0.09277344, -0.03369141,\n",
            "       -0.18066406, -0.14355469, -0.09863281,  0.16308594,  0.07324219,\n",
            "       -0.04052734,  0.18359375, -0.09277344, -0.00952148, -0.00445557,\n",
            "       -0.07910156,  0.11474609, -0.06494141,  0.19042969, -0.04345703,\n",
            "       -0.08886719, -0.16308594, -0.02905273, -0.01721191, -0.12353516,\n",
            "       -0.15722656, -0.20703125, -0.05493164,  0.02783203,  0.02355957,\n",
            "       -0.21386719,  0.0859375 ,  0.16503906,  0.02575684,  0.02416992,\n",
            "        0.03686523, -0.10058594,  0.12353516, -0.07324219,  0.11767578,\n",
            "        0.02954102, -0.00909424, -0.2578125 ,  0.04370117, -0.07373047,\n",
            "        0.09863281,  0.16210938, -0.05834961, -0.01306152,  0.00756836,\n",
            "        0.078125  , -0.06103516, -0.15917969, -0.06738281,  0.07714844,\n",
            "        0.1015625 ,  0.16113281, -0.171875  ,  0.04418945,  0.10693359,\n",
            "       -0.24121094,  0.02197266, -0.11865234,  0.20410156, -0.09521484,\n",
            "       -0.24121094, -0.05078125, -0.03833008, -0.02734375, -0.0291748 ,\n",
            "        0.04882812,  0.2421875 ,  0.06591797, -0.06445312, -0.0045166 ,\n",
            "       -0.20996094, -0.0177002 ,  0.12158203,  0.03613281, -0.01165771,\n",
            "       -0.01635742,  0.01086426, -0.08251953,  0.04833984,  0.16992188,\n",
            "        0.06030273,  0.05297852,  0.03564453,  0.05737305,  0.07568359,\n",
            "       -0.05639648,  0.08642578, -0.06591797, -0.08789062, -0.18164062,\n",
            "        0.01269531,  0.16894531, -0.11621094,  0.06396484, -0.14160156,\n",
            "        0.14648438, -0.10986328, -0.16113281, -0.03112793, -0.08886719,\n",
            "       -0.00187683,  0.19726562, -0.015625  ,  0.02709961, -0.19042969,\n",
            "       -0.06933594,  0.18066406, -0.06982422, -0.10986328, -0.11572266,\n",
            "       -0.0703125 , -0.11523438, -0.18847656, -0.04443359,  0.08300781,\n",
            "       -0.13964844,  0.203125  ,  0.03149414, -0.14257812,  0.06933594,\n",
            "        0.07958984, -0.03710938, -0.05053711,  0.10449219,  0.13085938,\n",
            "       -0.03112793, -0.02319336, -0.07763672,  0.16113281, -0.11523438,\n",
            "       -0.07519531,  0.02087402,  0.03027344, -0.13183594, -0.10986328,\n",
            "       -0.02185059, -0.03027344,  0.08251953, -0.02111816, -0.12695312,\n",
            "        0.05371094,  0.01647949,  0.19921875,  0.1640625 ,  0.06445312,\n",
            "       -0.04614258, -0.04443359,  0.03613281, -0.09570312, -0.09228516,\n",
            "       -0.12988281, -0.01855469, -0.13085938,  0.07226562,  0.07128906,\n",
            "        0.12451172, -0.0246582 ,  0.03076172, -0.10253906,  0.04980469,\n",
            "        0.19726562,  0.17773438,  0.29296875,  0.22167969, -0.0090332 ,\n",
            "       -0.06933594, -0.01831055, -0.17675781, -0.02905273, -0.20214844,\n",
            "       -0.02929688, -0.10205078,  0.06225586,  0.06982422,  0.07568359,\n",
            "       -0.0177002 ,  0.06176758, -0.11669922, -0.00308228,  0.00976562,\n",
            "       -0.00482178,  0.12792969, -0.09960938,  0.14160156, -0.18945312,\n",
            "        0.02734375,  0.12890625, -0.06347656,  0.02111816, -0.08251953],\n",
            "      dtype=float32), array([ 0.13964844, -0.00616455,  0.21484375,  0.07275391, -0.16113281,\n",
            "        0.07568359,  0.16796875, -0.20117188,  0.12597656,  0.00915527,\n",
            "        0.05249023, -0.15136719, -0.02758789,  0.04199219, -0.234375  ,\n",
            "        0.13867188, -0.02600098,  0.07910156,  0.02746582, -0.13085938,\n",
            "       -0.02478027,  0.10009766, -0.07910156, -0.07714844,  0.03759766,\n",
            "        0.16894531,  0.05371094, -0.05200195,  0.14453125, -0.04370117,\n",
            "       -0.12597656,  0.06884766, -0.10595703, -0.14550781, -0.00331116,\n",
            "        0.01367188,  0.13964844,  0.01660156,  0.03417969,  0.16113281,\n",
            "       -0.01080322,  0.06689453,  0.06835938, -0.15136719, -0.16894531,\n",
            "        0.03295898, -0.06884766,  0.06787109, -0.07373047,  0.08300781,\n",
            "        0.05761719,  0.14550781, -0.11865234, -0.13671875,  0.12402344,\n",
            "        0.04296875, -0.11962891, -0.08154297,  0.06494141, -0.05639648,\n",
            "       -0.04394531,  0.1484375 , -0.07714844,  0.04614258, -0.02624512,\n",
            "       -0.06591797,  0.04980469,  0.08886719, -0.01647949, -0.02294922,\n",
            "        0.10546875,  0.04199219,  0.11035156, -0.08251953, -0.13574219,\n",
            "       -0.07324219,  0.1015625 ,  0.05371094, -0.07275391,  0.08496094,\n",
            "       -0.04443359, -0.078125  ,  0.08398438, -0.00613403, -0.20898438,\n",
            "       -0.25      ,  0.00485229,  0.22363281,  0.01550293,  0.04223633,\n",
            "        0.07861328,  0.203125  , -0.25195312,  0.01867676,  0.03564453,\n",
            "       -0.09863281,  0.01745605,  0.12597656, -0.04589844, -0.10253906,\n",
            "       -0.10742188, -0.00558472,  0.05517578, -0.10791016, -0.1015625 ,\n",
            "        0.0222168 , -0.07958984,  0.04833984, -0.06201172, -0.11132812,\n",
            "        0.16210938, -0.09716797, -0.03222656,  0.08056641,  0.21386719,\n",
            "       -0.03759766,  0.06542969, -0.15527344,  0.00300598, -0.04907227,\n",
            "       -0.23730469,  0.13378906,  0.10253906,  0.07568359,  0.01330566,\n",
            "       -0.02770996, -0.27929688,  0.03112793,  0.00092316, -0.10107422,\n",
            "       -0.23730469, -0.21484375, -0.08496094, -0.16894531,  0.04370117,\n",
            "       -0.20996094,  0.00100708,  0.07617188, -0.03198242,  0.14160156,\n",
            "        0.15820312, -0.01275635,  0.04150391, -0.03393555,  0.12011719,\n",
            "       -0.08789062, -0.03735352, -0.16503906, -0.14257812, -0.05200195,\n",
            "        0.06542969,  0.22070312, -0.34570312,  0.10400391,  0.05053711,\n",
            "       -0.02368164, -0.13671875, -0.13476562,  0.09863281,  0.06689453,\n",
            "       -0.07666016,  0.20214844, -0.01806641, -0.06201172,  0.00402832,\n",
            "       -0.04174805,  0.06835938, -0.04882812,  0.12890625,  0.14941406,\n",
            "       -0.07763672,  0.09179688,  0.03686523, -0.08789062, -0.01721191,\n",
            "        0.15625   ,  0.16210938, -0.11328125, -0.00830078, -0.11962891,\n",
            "       -0.16601562, -0.12792969,  0.03759766, -0.16601562,  0.10449219,\n",
            "       -0.01220703, -0.01940918,  0.10009766,  0.0098877 ,  0.05957031,\n",
            "        0.17285156,  0.1484375 ,  0.21191406, -0.06835938, -0.04443359,\n",
            "       -0.12158203,  0.03088379,  0.02392578, -0.05297852, -0.09912109,\n",
            "       -0.00375366,  0.15625   , -0.06884766,  0.10205078,  0.00448608,\n",
            "        0.05053711, -0.11035156, -0.15332031,  0.03808594, -0.05249023,\n",
            "        0.01226807,  0.08935547,  0.06005859, -0.08007812, -0.24902344,\n",
            "       -0.01953125,  0.25390625,  0.00915527, -0.04345703,  0.0612793 ,\n",
            "       -0.06884766,  0.1015625 , -0.09326172, -0.07763672,  0.15625   ,\n",
            "       -0.10546875,  0.0625    ,  0.13574219, -0.06982422,  0.12792969,\n",
            "        0.05957031, -0.14550781,  0.08251953, -0.12792969,  0.14648438,\n",
            "       -0.15332031, -0.01708984, -0.01672363,  0.07958984,  0.01794434,\n",
            "        0.04199219, -0.12353516,  0.03320312, -0.11083984, -0.09716797,\n",
            "       -0.07568359,  0.14453125, -0.10351562,  0.05566406,  0.03369141,\n",
            "        0.01422119,  0.17382812,  0.10595703,  0.03930664,  0.27539062,\n",
            "       -0.14453125,  0.01672363,  0.03369141, -0.06542969, -0.1640625 ,\n",
            "        0.00909424, -0.07910156, -0.14453125,  0.03979492, -0.05761719,\n",
            "        0.078125  ,  0.12402344,  0.00671387, -0.19140625,  0.04248047,\n",
            "        0.02844238,  0.10351562,  0.33007812,  0.25      , -0.14160156,\n",
            "        0.04003906, -0.00201416, -0.12255859, -0.05297852,  0.02587891,\n",
            "        0.11669922, -0.07861328,  0.03320312,  0.14257812, -0.02856445,\n",
            "       -0.06494141,  0.03955078, -0.07421875, -0.07080078,  0.07714844,\n",
            "       -0.1015625 , -0.08300781, -0.11767578, -0.09619141, -0.203125  ,\n",
            "       -0.02490234,  0.19335938,  0.05712891,  0.09960938, -0.234375  ],\n",
            "      dtype=float32), array([-2.91015625e-01,  1.78710938e-01,  5.00488281e-02,  9.81445312e-02,\n",
            "        2.62451172e-02, -1.07421875e-01,  5.12695312e-02, -5.66406250e-02,\n",
            "        5.76171875e-02, -8.39843750e-02, -1.83593750e-01,  5.12695312e-02,\n",
            "        1.31835938e-02,  1.91650391e-02, -3.90625000e-03,  3.24707031e-02,\n",
            "        1.71875000e-01,  7.81250000e-02,  1.33666992e-02,  8.74023438e-02,\n",
            "       -1.52343750e-01,  9.03320312e-02,  4.02832031e-02,  1.75781250e-02,\n",
            "       -4.83398438e-02,  3.78417969e-02,  2.22167969e-02,  6.44531250e-02,\n",
            "       -1.36718750e-01,  4.76074219e-02,  5.46264648e-03,  1.34765625e-01,\n",
            "       -2.44140625e-01,  1.19140625e-01, -7.37304688e-02,  1.27929688e-01,\n",
            "       -3.80859375e-01,  2.06054688e-01,  2.36816406e-02,  1.31835938e-01,\n",
            "       -2.09960938e-01, -7.17773438e-02,  1.07421875e-01,  1.12304688e-01,\n",
            "        7.03125000e-02,  5.00488281e-02, -2.68554688e-02, -6.88476562e-02,\n",
            "        7.22656250e-02,  1.84570312e-01,  7.95898438e-02,  2.19726562e-01,\n",
            "        2.84423828e-02,  2.67578125e-01,  1.04980469e-01,  6.22558594e-02,\n",
            "       -1.30859375e-01, -3.88183594e-02,  2.56347656e-02, -5.10253906e-02,\n",
            "       -9.13085938e-02,  3.68652344e-02, -9.42382812e-02, -6.98242188e-02,\n",
            "       -5.39550781e-02, -1.32812500e-01,  1.13281250e-01, -4.61425781e-02,\n",
            "       -3.00292969e-02,  1.67236328e-02, -4.98046875e-02, -6.83593750e-02,\n",
            "        4.19921875e-02, -4.49218750e-02,  1.16699219e-01,  1.94335938e-01,\n",
            "        2.22656250e-01, -1.52587891e-02,  2.31445312e-01,  2.77099609e-02,\n",
            "        9.03320312e-02, -2.52685547e-02,  7.51953125e-02,  2.09960938e-01,\n",
            "        2.11914062e-01,  2.52685547e-02, -5.46875000e-02, -1.74560547e-02,\n",
            "       -1.71875000e-01, -1.84570312e-01,  3.78417969e-02,  3.51562500e-02,\n",
            "       -2.31933594e-02, -8.15429688e-02,  1.58203125e-01,  6.39648438e-02,\n",
            "       -2.56347656e-02,  1.92871094e-02,  1.41601562e-01,  1.92382812e-01,\n",
            "        9.37500000e-02, -8.34960938e-02, -6.39648438e-02, -4.07714844e-02,\n",
            "       -5.46875000e-02,  2.21679688e-01, -2.68554688e-02,  2.81250000e-01,\n",
            "        2.05078125e-02,  7.56835938e-02, -1.70898438e-01, -2.04101562e-01,\n",
            "       -4.95605469e-02, -1.91406250e-01,  2.08984375e-01,  1.38671875e-01,\n",
            "        9.27734375e-02, -1.27929688e-01,  1.73828125e-01,  5.24902344e-02,\n",
            "        1.68457031e-02,  6.78710938e-02, -1.41601562e-01,  8.74023438e-02,\n",
            "       -3.49121094e-02,  7.42187500e-02,  6.16455078e-03, -8.98437500e-02,\n",
            "        1.50146484e-02,  7.09533691e-04, -2.45117188e-01,  2.63671875e-02,\n",
            "       -1.19140625e-01,  2.12402344e-02, -6.17675781e-02,  6.93359375e-02,\n",
            "        1.43432617e-02,  4.56542969e-02,  1.88476562e-01,  5.66406250e-02,\n",
            "        2.59765625e-01, -2.77099609e-02,  4.34570312e-02,  5.54199219e-02,\n",
            "        1.00097656e-01, -1.54296875e-01,  1.24023438e-01,  1.60156250e-01,\n",
            "        6.98242188e-02,  4.12597656e-02,  1.19018555e-02, -1.18652344e-01,\n",
            "        1.51367188e-01, -1.00097656e-02, -1.42578125e-01, -7.08007812e-02,\n",
            "       -7.08007812e-02,  1.86523438e-01, -3.49121094e-02,  5.67626953e-03,\n",
            "        8.88671875e-02, -1.05957031e-01,  5.09643555e-03,  1.76757812e-01,\n",
            "       -4.34570312e-02, -1.36718750e-01,  2.33398438e-01,  4.17480469e-02,\n",
            "        3.44238281e-02,  1.92382812e-01, -1.12304688e-01,  1.45263672e-02,\n",
            "        8.93554688e-02, -2.51953125e-01, -3.58581543e-03,  2.24609375e-01,\n",
            "        8.10546875e-02, -1.82617188e-01, -2.13867188e-01, -1.18652344e-01,\n",
            "       -8.91113281e-03,  2.61306763e-04, -3.64685059e-03, -8.83789062e-02,\n",
            "        2.57568359e-02,  8.30078125e-02, -7.27539062e-02,  7.86132812e-02,\n",
            "        9.42382812e-02,  9.47265625e-02,  1.65039062e-01,  1.22558594e-01,\n",
            "       -2.26562500e-01, -1.79687500e-01,  3.93066406e-02, -6.78710938e-02,\n",
            "       -1.45507812e-01, -4.76074219e-02,  1.15722656e-01, -3.18359375e-01,\n",
            "       -6.88476562e-02, -4.95605469e-02, -1.49414062e-01, -3.36914062e-02,\n",
            "        1.54296875e-01,  1.64062500e-01,  7.69042969e-03,  1.62109375e-01,\n",
            "       -3.44238281e-02,  1.31835938e-01,  7.03125000e-02,  2.94921875e-01,\n",
            "       -1.12304688e-01,  1.69921875e-01,  1.83105469e-02,  2.53906250e-01,\n",
            "        2.17773438e-01, -1.32812500e-01, -2.79296875e-01,  1.14746094e-01,\n",
            "       -3.24707031e-02,  3.51562500e-02,  1.23046875e-01, -2.44140625e-02,\n",
            "        1.39648438e-01, -9.22851562e-02, -4.02832031e-02, -1.23291016e-02,\n",
            "        7.12890625e-02, -1.21093750e-01,  4.73632812e-02, -2.50000000e-01,\n",
            "        1.99317932e-04,  9.96093750e-02,  6.49414062e-02,  2.34375000e-02,\n",
            "        1.58203125e-01, -9.52148438e-02, -6.64062500e-02,  1.58203125e-01,\n",
            "       -6.31713867e-03, -1.72851562e-01,  4.32128906e-02, -1.05957031e-01,\n",
            "        1.79687500e-01,  1.19628906e-01, -1.15722656e-01,  6.00585938e-02,\n",
            "        1.66015625e-01,  3.46374512e-03, -1.03515625e-01, -2.64892578e-02,\n",
            "       -9.94873047e-03,  6.93359375e-02, -5.61523438e-02, -2.46582031e-02,\n",
            "        1.36718750e-01,  1.16699219e-01,  1.16577148e-02,  5.90820312e-02,\n",
            "        2.34375000e-01, -7.91015625e-02,  2.04101562e-01,  1.01562500e-01,\n",
            "        1.30859375e-01,  1.83593750e-01,  2.58789062e-02,  5.85937500e-02,\n",
            "       -8.25195312e-02, -7.65991211e-03, -2.87109375e-01,  2.79541016e-02,\n",
            "        1.58203125e-01, -1.81640625e-01,  2.78320312e-02, -1.20605469e-01,\n",
            "       -1.71875000e-01, -9.66796875e-02, -7.91015625e-02, -1.39160156e-02,\n",
            "       -1.79687500e-01,  1.41601562e-01, -9.37500000e-02, -1.46484375e-02,\n",
            "       -1.96533203e-02,  1.13769531e-01, -2.67333984e-02, -1.00708008e-02,\n",
            "       -1.12792969e-01, -2.37304688e-01,  2.17285156e-02,  2.05078125e-02,\n",
            "       -1.57226562e-01,  1.10351562e-01, -1.51367188e-01, -3.33984375e-01,\n",
            "       -6.15234375e-02, -2.28271484e-02,  1.17675781e-01,  3.53515625e-01],\n",
            "      dtype=float32), array([ 1.12915039e-02,  2.89306641e-02,  8.34960938e-02, -4.98046875e-02,\n",
            "       -1.30859375e-01, -1.09863281e-01, -1.15234375e-01, -7.47070312e-02,\n",
            "       -8.93554688e-02,  2.18750000e-01,  3.71093750e-02,  9.47265625e-02,\n",
            "        2.34375000e-02, -8.44726562e-02, -2.65625000e-01, -1.00585938e-01,\n",
            "        4.63867188e-03,  1.15234375e-01,  8.25195312e-02,  2.06298828e-02,\n",
            "       -3.68652344e-02, -3.20434570e-04, -9.91210938e-02,  1.58691406e-02,\n",
            "       -6.34765625e-02,  1.87500000e-01,  8.98437500e-02,  1.77734375e-01,\n",
            "        1.20117188e-01,  3.71093750e-02, -1.19628906e-01,  4.05273438e-02,\n",
            "       -3.22265625e-02, -3.80859375e-02,  1.26953125e-01, -1.58203125e-01,\n",
            "       -5.07812500e-02, -1.56250000e-01,  8.64257812e-02, -1.17187500e-01,\n",
            "        1.39648438e-01, -1.59179688e-01, -4.07714844e-02,  1.22070312e-01,\n",
            "        5.24902344e-02, -1.13281250e-01,  7.91015625e-02,  1.82617188e-01,\n",
            "       -5.90820312e-02, -2.20947266e-02,  9.08203125e-02,  3.49121094e-02,\n",
            "       -1.02539062e-02, -5.44433594e-02,  1.34765625e-01,  6.64062500e-02,\n",
            "       -8.98437500e-02, -2.15820312e-01,  1.56250000e-01, -1.51367188e-02,\n",
            "       -1.09375000e-01, -1.00097656e-01, -8.20312500e-02,  2.12402344e-02,\n",
            "        1.74804688e-01, -9.13085938e-02, -3.36914062e-02,  1.22070312e-01,\n",
            "       -2.97851562e-02,  1.68945312e-01,  4.44335938e-02,  6.88476562e-02,\n",
            "        7.91015625e-02,  8.93554688e-02, -1.18164062e-01,  1.03027344e-01,\n",
            "        1.29882812e-01,  2.59765625e-01, -8.30078125e-02,  2.00195312e-01,\n",
            "        1.04492188e-01, -8.25195312e-02, -8.69140625e-02,  2.31933594e-02,\n",
            "        1.23046875e-01, -5.17578125e-02, -2.02148438e-01,  1.70898438e-01,\n",
            "       -6.73828125e-02,  1.67968750e-01, -1.57470703e-02, -9.86328125e-02,\n",
            "       -5.34667969e-02, -1.03027344e-01,  1.86767578e-02, -1.05590820e-02,\n",
            "        5.10253906e-02, -1.27563477e-02,  1.78222656e-02,  2.06298828e-02,\n",
            "        5.81054688e-02, -8.11767578e-03,  5.29785156e-02,  9.76562500e-03,\n",
            "       -1.47460938e-01, -1.05957031e-01,  9.61914062e-02, -1.26953125e-01,\n",
            "       -2.83813477e-03, -3.54003906e-02,  1.97753906e-02,  1.78710938e-01,\n",
            "       -7.32421875e-02, -2.36816406e-02,  2.63671875e-01,  1.57470703e-02,\n",
            "       -3.32031250e-02, -5.78613281e-02,  1.24023438e-01, -9.01222229e-05,\n",
            "       -3.95507812e-02, -1.38671875e-01, -9.96093750e-02,  5.66406250e-02,\n",
            "        1.11328125e-01, -5.82885742e-03,  9.37500000e-02,  3.80859375e-02,\n",
            "       -1.64794922e-02,  1.47460938e-01, -2.60009766e-02,  1.81884766e-02,\n",
            "       -1.38671875e-01,  5.44433594e-02,  2.36816406e-02,  1.51367188e-01,\n",
            "        1.18164062e-01, -8.49609375e-02,  6.83593750e-02, -6.07299805e-03,\n",
            "       -3.18908691e-03, -3.95507812e-02, -4.90722656e-02,  3.58886719e-02,\n",
            "        8.25195312e-02, -4.27246094e-02,  3.78417969e-02, -2.20947266e-02,\n",
            "        4.05273438e-02, -1.52343750e-01, -9.52148438e-02, -8.15429688e-02,\n",
            "       -4.76074219e-03,  9.15527344e-03,  1.63085938e-01, -1.04980469e-02,\n",
            "       -1.90429688e-02, -1.25000000e-01,  2.16064453e-02, -4.02832031e-02,\n",
            "       -1.22070312e-03, -6.44531250e-02, -1.56250000e-01, -9.13085938e-02,\n",
            "        9.15527344e-03, -7.91015625e-02,  1.80664062e-01, -4.49218750e-02,\n",
            "       -2.90527344e-02, -1.48437500e-01,  8.66699219e-03, -1.57226562e-01,\n",
            "       -4.85229492e-03, -2.09960938e-02,  3.00781250e-01,  8.78906250e-02,\n",
            "       -3.97949219e-02, -7.11059570e-03, -8.64257812e-02,  8.64257812e-02,\n",
            "       -2.04101562e-01, -4.93164062e-02, -6.29882812e-02, -1.30859375e-01,\n",
            "       -4.97436523e-03, -4.05273438e-02,  1.11328125e-01,  6.07910156e-02,\n",
            "        1.01562500e-01, -1.94091797e-02, -1.16210938e-01,  8.44726562e-02,\n",
            "       -1.28173828e-02, -6.64062500e-02, -9.09423828e-03,  4.95605469e-02,\n",
            "       -6.34765625e-02, -1.00097656e-02, -1.23535156e-01, -1.33789062e-01,\n",
            "        5.79833984e-03,  4.61425781e-02,  9.03320312e-02,  4.80957031e-02,\n",
            "       -3.19824219e-02,  1.86767578e-02, -8.05664062e-03,  9.96093750e-02,\n",
            "        6.34765625e-02,  8.83789062e-02, -5.29785156e-02,  1.06933594e-01,\n",
            "        4.95605469e-02,  1.66015625e-02, -6.44531250e-02,  8.15429688e-02,\n",
            "        2.53906250e-01, -4.85839844e-02, -2.21679688e-01,  1.30859375e-01,\n",
            "       -6.49414062e-02, -4.10156250e-02,  9.58251953e-03,  3.32641602e-03,\n",
            "        7.61718750e-02, -2.17773438e-01, -2.10937500e-01,  1.03515625e-01,\n",
            "       -1.22558594e-01, -1.05957031e-01, -1.23535156e-01,  9.76562500e-02,\n",
            "       -3.68652344e-02,  1.31835938e-01,  3.56445312e-02, -7.51953125e-02,\n",
            "       -1.55029297e-02, -6.54296875e-02, -9.38415527e-04,  1.42578125e-01,\n",
            "        3.85742188e-02, -1.73828125e-01,  8.30078125e-02, -4.46777344e-02,\n",
            "        5.55419922e-03, -8.30078125e-02,  3.08837891e-02,  1.35742188e-01,\n",
            "        3.49121094e-02, -4.17480469e-02,  2.35595703e-02,  1.45507812e-01,\n",
            "       -5.78613281e-02,  6.49414062e-02, -9.15527344e-03,  1.19628906e-01,\n",
            "        6.05468750e-02,  5.34667969e-02,  4.85229492e-03, -2.79541016e-02,\n",
            "        6.03027344e-02,  2.36816406e-02, -1.90429688e-01,  7.86132812e-02,\n",
            "        1.82617188e-01,  2.75878906e-02, -1.61132812e-01, -4.44335938e-02,\n",
            "       -1.59179688e-01, -3.39355469e-02,  1.99218750e-01, -2.42919922e-02,\n",
            "        1.59179688e-01, -2.00195312e-01,  5.61523438e-02, -2.44140625e-02,\n",
            "        1.27929688e-01, -1.59179688e-01,  1.08886719e-01, -8.64257812e-02,\n",
            "       -1.33789062e-01,  1.13281250e-01, -4.56542969e-02,  1.60156250e-01,\n",
            "        1.10351562e-01,  1.15234375e-01, -2.16796875e-01, -1.53320312e-01,\n",
            "        1.83593750e-01, -5.59082031e-02, -3.12500000e-02,  4.41894531e-02,\n",
            "       -9.86328125e-02,  2.85644531e-02, -1.70898438e-02,  1.08886719e-01,\n",
            "        1.43554688e-01,  8.15429688e-02, -4.58984375e-02, -4.63867188e-02],\n",
            "      dtype=float32)]\n"
          ],
          "name": "stdout"
        }
      ]
    },
    {
      "metadata": {
        "id": "IN9lUB6iMgn-",
        "colab_type": "text"
      },
      "cell_type": "markdown",
      "source": [
        "Creating numpy array with the list"
      ]
    },
    {
      "metadata": {
        "id": "0kZvcOZdLWL2",
        "colab_type": "code",
        "colab": {
          "base_uri": "https://localhost:8080/",
          "height": 35
        },
        "outputId": "607a1f8e-2423-4e42-b135-94d4c78663d4"
      },
      "cell_type": "code",
      "source": [
        "import numpy as np\n",
        "\n",
        "vectors = np.array(vectors)\n",
        "print(vectors)"
      ],
      "execution_count": 35,
      "outputs": [
        {
          "output_type": "execute_result",
          "data": {
            "text/plain": [
              "numpy.ndarray"
            ]
          },
          "metadata": {
            "tags": []
          },
          "execution_count": 35
        }
      ]
    },
    {
      "metadata": {
        "id": "a7iWyMs3Mz86",
        "colab_type": "text"
      },
      "cell_type": "markdown",
      "source": [
        "Now you can use this array of vectors to your Machine Learning model"
      ]
    },
    {
      "metadata": {
        "id": "5DKpyPyfMpoB",
        "colab_type": "code",
        "colab": {}
      },
      "cell_type": "code",
      "source": [
        ""
      ],
      "execution_count": 0,
      "outputs": []
    }
  ]
}